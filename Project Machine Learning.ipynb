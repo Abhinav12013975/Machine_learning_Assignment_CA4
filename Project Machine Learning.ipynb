{
 "cells": [
  {
   "cell_type": "code",
   "execution_count": 1,
   "id": "aff18337",
   "metadata": {},
   "outputs": [],
   "source": [
    "import numpy as np"
   ]
  },
  {
   "cell_type": "code",
   "execution_count": 2,
   "id": "f87c8ee0",
   "metadata": {},
   "outputs": [],
   "source": [
    "import pandas as pd"
   ]
  },
  {
   "cell_type": "code",
   "execution_count": 3,
   "id": "6e9ded56",
   "metadata": {},
   "outputs": [],
   "source": [
    "df = pd.read_csv(\"training.csv\", header=None, na_values = \"?\")\n"
   ]
  },
  {
   "cell_type": "code",
   "execution_count": 4,
   "id": "debedeab",
   "metadata": {},
   "outputs": [
    {
     "data": {
      "text/html": [
       "<div>\n",
       "<style scoped>\n",
       "    .dataframe tbody tr th:only-of-type {\n",
       "        vertical-align: middle;\n",
       "    }\n",
       "\n",
       "    .dataframe tbody tr th {\n",
       "        vertical-align: top;\n",
       "    }\n",
       "\n",
       "    .dataframe thead th {\n",
       "        text-align: right;\n",
       "    }\n",
       "</style>\n",
       "<table border=\"1\" class=\"dataframe\">\n",
       "  <thead>\n",
       "    <tr style=\"text-align: right;\">\n",
       "      <th></th>\n",
       "      <th>0</th>\n",
       "      <th>1</th>\n",
       "      <th>2</th>\n",
       "      <th>3</th>\n",
       "      <th>4</th>\n",
       "      <th>5</th>\n",
       "      <th>6</th>\n",
       "      <th>7</th>\n",
       "      <th>8</th>\n",
       "      <th>9</th>\n",
       "      <th>...</th>\n",
       "      <th>19</th>\n",
       "      <th>20</th>\n",
       "      <th>21</th>\n",
       "      <th>22</th>\n",
       "      <th>23</th>\n",
       "      <th>24</th>\n",
       "      <th>25</th>\n",
       "      <th>26</th>\n",
       "      <th>27</th>\n",
       "      <th>28</th>\n",
       "    </tr>\n",
       "  </thead>\n",
       "  <tbody>\n",
       "    <tr>\n",
       "      <th>0</th>\n",
       "      <td>class</td>\n",
       "      <td>max_ndvi</td>\n",
       "      <td>20150720_N</td>\n",
       "      <td>20150602_N</td>\n",
       "      <td>20150517_N</td>\n",
       "      <td>20150501_N</td>\n",
       "      <td>20150415_N</td>\n",
       "      <td>20150330_N</td>\n",
       "      <td>20150314_N</td>\n",
       "      <td>20150226_N</td>\n",
       "      <td>...</td>\n",
       "      <td>20140610_N</td>\n",
       "      <td>20140525_N</td>\n",
       "      <td>20140509_N</td>\n",
       "      <td>20140423_N</td>\n",
       "      <td>20140407_N</td>\n",
       "      <td>20140322_N</td>\n",
       "      <td>20140218_N</td>\n",
       "      <td>20140202_N</td>\n",
       "      <td>20140117_N</td>\n",
       "      <td>20140101_N</td>\n",
       "    </tr>\n",
       "    <tr>\n",
       "      <th>1</th>\n",
       "      <td>water</td>\n",
       "      <td>997.904</td>\n",
       "      <td>637.595</td>\n",
       "      <td>658.668</td>\n",
       "      <td>-1882.03</td>\n",
       "      <td>-1924.36</td>\n",
       "      <td>997.904</td>\n",
       "      <td>-1739.99</td>\n",
       "      <td>630.087</td>\n",
       "      <td>-1628.24</td>\n",
       "      <td>...</td>\n",
       "      <td>-921.193</td>\n",
       "      <td>-1043.16</td>\n",
       "      <td>-1942.49</td>\n",
       "      <td>267.138</td>\n",
       "      <td>366.608</td>\n",
       "      <td>452.238</td>\n",
       "      <td>211.328</td>\n",
       "      <td>-2203.02</td>\n",
       "      <td>-1180.19</td>\n",
       "      <td>433.906</td>\n",
       "    </tr>\n",
       "    <tr>\n",
       "      <th>2</th>\n",
       "      <td>water</td>\n",
       "      <td>914.198</td>\n",
       "      <td>634.24</td>\n",
       "      <td>593.705</td>\n",
       "      <td>-1625.79</td>\n",
       "      <td>-1672.32</td>\n",
       "      <td>914.198</td>\n",
       "      <td>-692.386</td>\n",
       "      <td>707.626</td>\n",
       "      <td>-1670.59</td>\n",
       "      <td>...</td>\n",
       "      <td>-954.719</td>\n",
       "      <td>-933.934</td>\n",
       "      <td>-625.385</td>\n",
       "      <td>120.059</td>\n",
       "      <td>364.858</td>\n",
       "      <td>476.972</td>\n",
       "      <td>220.878</td>\n",
       "      <td>-2250</td>\n",
       "      <td>-1360.56</td>\n",
       "      <td>524.075</td>\n",
       "    </tr>\n",
       "    <tr>\n",
       "      <th>3</th>\n",
       "      <td>water</td>\n",
       "      <td>3800.81</td>\n",
       "      <td>1671.34</td>\n",
       "      <td>1206.88</td>\n",
       "      <td>449.735</td>\n",
       "      <td>1071.21</td>\n",
       "      <td>546.371</td>\n",
       "      <td>1077.84</td>\n",
       "      <td>214.564</td>\n",
       "      <td>849.599</td>\n",
       "      <td>...</td>\n",
       "      <td>1562.21</td>\n",
       "      <td>1566.16</td>\n",
       "      <td>2208.44</td>\n",
       "      <td>1056.6</td>\n",
       "      <td>385.203</td>\n",
       "      <td>300.56</td>\n",
       "      <td>293.73</td>\n",
       "      <td>2762.57</td>\n",
       "      <td>150.931</td>\n",
       "      <td>3800.81</td>\n",
       "    </tr>\n",
       "    <tr>\n",
       "      <th>4</th>\n",
       "      <td>water</td>\n",
       "      <td>952.178</td>\n",
       "      <td>58.0174</td>\n",
       "      <td>-1599.16</td>\n",
       "      <td>210.714</td>\n",
       "      <td>-1052.63</td>\n",
       "      <td>578.807</td>\n",
       "      <td>-1564.63</td>\n",
       "      <td>-858.39</td>\n",
       "      <td>729.79</td>\n",
       "      <td>...</td>\n",
       "      <td>-1025.88</td>\n",
       "      <td>368.622</td>\n",
       "      <td>-1786.95</td>\n",
       "      <td>-1227.8</td>\n",
       "      <td>304.621</td>\n",
       "      <td>291.336</td>\n",
       "      <td>369.214</td>\n",
       "      <td>-2202.12</td>\n",
       "      <td>600.359</td>\n",
       "      <td>-1343.55</td>\n",
       "    </tr>\n",
       "    <tr>\n",
       "      <th>...</th>\n",
       "      <td>...</td>\n",
       "      <td>...</td>\n",
       "      <td>...</td>\n",
       "      <td>...</td>\n",
       "      <td>...</td>\n",
       "      <td>...</td>\n",
       "      <td>...</td>\n",
       "      <td>...</td>\n",
       "      <td>...</td>\n",
       "      <td>...</td>\n",
       "      <td>...</td>\n",
       "      <td>...</td>\n",
       "      <td>...</td>\n",
       "      <td>...</td>\n",
       "      <td>...</td>\n",
       "      <td>...</td>\n",
       "      <td>...</td>\n",
       "      <td>...</td>\n",
       "      <td>...</td>\n",
       "      <td>...</td>\n",
       "      <td>...</td>\n",
       "    </tr>\n",
       "    <tr>\n",
       "      <th>10541</th>\n",
       "      <td>impervious</td>\n",
       "      <td>7579.58</td>\n",
       "      <td>6072.5</td>\n",
       "      <td>3803.14</td>\n",
       "      <td>3902.22</td>\n",
       "      <td>3897.43</td>\n",
       "      <td>3767.05</td>\n",
       "      <td>3985.77</td>\n",
       "      <td>4122.54</td>\n",
       "      <td>4240.23</td>\n",
       "      <td>...</td>\n",
       "      <td>7340.16</td>\n",
       "      <td>5513.73</td>\n",
       "      <td>1538.24</td>\n",
       "      <td>3507.36</td>\n",
       "      <td>1099.8</td>\n",
       "      <td>461.336</td>\n",
       "      <td>406.031</td>\n",
       "      <td>4652.03</td>\n",
       "      <td>2774.98</td>\n",
       "      <td>500.864</td>\n",
       "    </tr>\n",
       "    <tr>\n",
       "      <th>10542</th>\n",
       "      <td>impervious</td>\n",
       "      <td>2780.93</td>\n",
       "      <td>1895.68</td>\n",
       "      <td>1454.74</td>\n",
       "      <td>1265.48</td>\n",
       "      <td>1033.56</td>\n",
       "      <td>1930.38</td>\n",
       "      <td>1057.15</td>\n",
       "      <td>1471.6</td>\n",
       "      <td>1427.34</td>\n",
       "      <td>...</td>\n",
       "      <td>888.408</td>\n",
       "      <td>2093.02</td>\n",
       "      <td>1232.11</td>\n",
       "      <td>1190.83</td>\n",
       "      <td>1441.46</td>\n",
       "      <td>1170.88</td>\n",
       "      <td>1095</td>\n",
       "      <td>1818.65</td>\n",
       "      <td>2501.72</td>\n",
       "      <td>1247.77</td>\n",
       "    </tr>\n",
       "    <tr>\n",
       "      <th>10543</th>\n",
       "      <td>impervious</td>\n",
       "      <td>5833.76</td>\n",
       "      <td>3465.74</td>\n",
       "      <td>1283.32</td>\n",
       "      <td>413.412</td>\n",
       "      <td>4391.05</td>\n",
       "      <td>1146.82</td>\n",
       "      <td>4473.05</td>\n",
       "      <td>1614.75</td>\n",
       "      <td>770.469</td>\n",
       "      <td>...</td>\n",
       "      <td>5833.76</td>\n",
       "      <td>4047.32</td>\n",
       "      <td>4515.8</td>\n",
       "      <td>433.177</td>\n",
       "      <td>277.296</td>\n",
       "      <td>744.143</td>\n",
       "      <td>315.503</td>\n",
       "      <td>3759.71</td>\n",
       "      <td>3267.17</td>\n",
       "      <td>388.346</td>\n",
       "    </tr>\n",
       "    <tr>\n",
       "      <th>10544</th>\n",
       "      <td>impervious</td>\n",
       "      <td>3079.31</td>\n",
       "      <td>2435.3</td>\n",
       "      <td>1444.4</td>\n",
       "      <td>1133.76</td>\n",
       "      <td>1278.74</td>\n",
       "      <td>927.765</td>\n",
       "      <td>1917.04</td>\n",
       "      <td>1514.92</td>\n",
       "      <td>1685.13</td>\n",
       "      <td>...</td>\n",
       "      <td>1686.86</td>\n",
       "      <td>2050.94</td>\n",
       "      <td>1848.1</td>\n",
       "      <td>1725.82</td>\n",
       "      <td>1935.41</td>\n",
       "      <td>2089.71</td>\n",
       "      <td>668.16</td>\n",
       "      <td>1880.59</td>\n",
       "      <td>1614.84</td>\n",
       "      <td>1518.98</td>\n",
       "    </tr>\n",
       "    <tr>\n",
       "      <th>10545</th>\n",
       "      <td>impervious</td>\n",
       "      <td>7352.57</td>\n",
       "      <td>6941.19</td>\n",
       "      <td>1667.87</td>\n",
       "      <td>5084.78</td>\n",
       "      <td>4832.13</td>\n",
       "      <td>1588.95</td>\n",
       "      <td>5978.19</td>\n",
       "      <td>5462.33</td>\n",
       "      <td>3068.03</td>\n",
       "      <td>...</td>\n",
       "      <td>7352.57</td>\n",
       "      <td>3289.86</td>\n",
       "      <td>3729.15</td>\n",
       "      <td>1994.98</td>\n",
       "      <td>3556.04</td>\n",
       "      <td>5299.9</td>\n",
       "      <td>1562.76</td>\n",
       "      <td>5983.13</td>\n",
       "      <td>1249.71</td>\n",
       "      <td>2424.23</td>\n",
       "    </tr>\n",
       "  </tbody>\n",
       "</table>\n",
       "<p>10546 rows × 29 columns</p>\n",
       "</div>"
      ],
      "text/plain": [
       "               0         1           2           3           4           5   \\\n",
       "0           class  max_ndvi  20150720_N  20150602_N  20150517_N  20150501_N   \n",
       "1           water   997.904     637.595     658.668    -1882.03    -1924.36   \n",
       "2           water   914.198      634.24     593.705    -1625.79    -1672.32   \n",
       "3           water   3800.81     1671.34     1206.88     449.735     1071.21   \n",
       "4           water   952.178     58.0174    -1599.16     210.714    -1052.63   \n",
       "...           ...       ...         ...         ...         ...         ...   \n",
       "10541  impervious   7579.58      6072.5     3803.14     3902.22     3897.43   \n",
       "10542  impervious   2780.93     1895.68     1454.74     1265.48     1033.56   \n",
       "10543  impervious   5833.76     3465.74     1283.32     413.412     4391.05   \n",
       "10544  impervious   3079.31      2435.3      1444.4     1133.76     1278.74   \n",
       "10545  impervious   7352.57     6941.19     1667.87     5084.78     4832.13   \n",
       "\n",
       "               6           7           8           9   ...          19  \\\n",
       "0      20150415_N  20150330_N  20150314_N  20150226_N  ...  20140610_N   \n",
       "1         997.904    -1739.99     630.087    -1628.24  ...    -921.193   \n",
       "2         914.198    -692.386     707.626    -1670.59  ...    -954.719   \n",
       "3         546.371     1077.84     214.564     849.599  ...     1562.21   \n",
       "4         578.807    -1564.63     -858.39      729.79  ...    -1025.88   \n",
       "...           ...         ...         ...         ...  ...         ...   \n",
       "10541     3767.05     3985.77     4122.54     4240.23  ...     7340.16   \n",
       "10542     1930.38     1057.15      1471.6     1427.34  ...     888.408   \n",
       "10543     1146.82     4473.05     1614.75     770.469  ...     5833.76   \n",
       "10544     927.765     1917.04     1514.92     1685.13  ...     1686.86   \n",
       "10545     1588.95     5978.19     5462.33     3068.03  ...     7352.57   \n",
       "\n",
       "               20          21          22          23          24          25  \\\n",
       "0      20140525_N  20140509_N  20140423_N  20140407_N  20140322_N  20140218_N   \n",
       "1        -1043.16    -1942.49     267.138     366.608     452.238     211.328   \n",
       "2        -933.934    -625.385     120.059     364.858     476.972     220.878   \n",
       "3         1566.16     2208.44      1056.6     385.203      300.56      293.73   \n",
       "4         368.622    -1786.95     -1227.8     304.621     291.336     369.214   \n",
       "...           ...         ...         ...         ...         ...         ...   \n",
       "10541     5513.73     1538.24     3507.36      1099.8     461.336     406.031   \n",
       "10542     2093.02     1232.11     1190.83     1441.46     1170.88        1095   \n",
       "10543     4047.32      4515.8     433.177     277.296     744.143     315.503   \n",
       "10544     2050.94      1848.1     1725.82     1935.41     2089.71      668.16   \n",
       "10545     3289.86     3729.15     1994.98     3556.04      5299.9     1562.76   \n",
       "\n",
       "               26          27          28  \n",
       "0      20140202_N  20140117_N  20140101_N  \n",
       "1        -2203.02    -1180.19     433.906  \n",
       "2           -2250    -1360.56     524.075  \n",
       "3         2762.57     150.931     3800.81  \n",
       "4        -2202.12     600.359    -1343.55  \n",
       "...           ...         ...         ...  \n",
       "10541     4652.03     2774.98     500.864  \n",
       "10542     1818.65     2501.72     1247.77  \n",
       "10543     3759.71     3267.17     388.346  \n",
       "10544     1880.59     1614.84     1518.98  \n",
       "10545     5983.13     1249.71     2424.23  \n",
       "\n",
       "[10546 rows x 29 columns]"
      ]
     },
     "execution_count": 4,
     "metadata": {},
     "output_type": "execute_result"
    }
   ],
   "source": [
    "df"
   ]
  },
  {
   "cell_type": "code",
   "execution_count": 5,
   "id": "a7bc0931",
   "metadata": {},
   "outputs": [
    {
     "data": {
      "text/plain": [
       "0"
      ]
     },
     "execution_count": 5,
     "metadata": {},
     "output_type": "execute_result"
    }
   ],
   "source": [
    "df.isnull().sum().sum()"
   ]
  },
  {
   "cell_type": "markdown",
   "id": "e89a3245",
   "metadata": {},
   "source": [
    "# using labelEncoder , SimpleImputer and DecisionTree"
   ]
  },
  {
   "cell_type": "code",
   "execution_count": 6,
   "id": "aa74c208",
   "metadata": {},
   "outputs": [],
   "source": [
    "from sklearn.impute import SimpleImputer"
   ]
  },
  {
   "cell_type": "code",
   "execution_count": 7,
   "id": "ae2bd3c4",
   "metadata": {},
   "outputs": [],
   "source": [
    "df1 = pd.DataFrame(SimpleImputer(strategy = \"most_frequent\").fit_transform(df))"
   ]
  },
  {
   "cell_type": "code",
   "execution_count": 8,
   "id": "9bdc1bb3",
   "metadata": {},
   "outputs": [
    {
     "data": {
      "text/html": [
       "<div>\n",
       "<style scoped>\n",
       "    .dataframe tbody tr th:only-of-type {\n",
       "        vertical-align: middle;\n",
       "    }\n",
       "\n",
       "    .dataframe tbody tr th {\n",
       "        vertical-align: top;\n",
       "    }\n",
       "\n",
       "    .dataframe thead th {\n",
       "        text-align: right;\n",
       "    }\n",
       "</style>\n",
       "<table border=\"1\" class=\"dataframe\">\n",
       "  <thead>\n",
       "    <tr style=\"text-align: right;\">\n",
       "      <th></th>\n",
       "      <th>0</th>\n",
       "      <th>1</th>\n",
       "      <th>2</th>\n",
       "      <th>3</th>\n",
       "      <th>4</th>\n",
       "      <th>5</th>\n",
       "      <th>6</th>\n",
       "      <th>7</th>\n",
       "      <th>8</th>\n",
       "      <th>9</th>\n",
       "      <th>...</th>\n",
       "      <th>19</th>\n",
       "      <th>20</th>\n",
       "      <th>21</th>\n",
       "      <th>22</th>\n",
       "      <th>23</th>\n",
       "      <th>24</th>\n",
       "      <th>25</th>\n",
       "      <th>26</th>\n",
       "      <th>27</th>\n",
       "      <th>28</th>\n",
       "    </tr>\n",
       "  </thead>\n",
       "  <tbody>\n",
       "    <tr>\n",
       "      <th>0</th>\n",
       "      <td>class</td>\n",
       "      <td>max_ndvi</td>\n",
       "      <td>20150720_N</td>\n",
       "      <td>20150602_N</td>\n",
       "      <td>20150517_N</td>\n",
       "      <td>20150501_N</td>\n",
       "      <td>20150415_N</td>\n",
       "      <td>20150330_N</td>\n",
       "      <td>20150314_N</td>\n",
       "      <td>20150226_N</td>\n",
       "      <td>...</td>\n",
       "      <td>20140610_N</td>\n",
       "      <td>20140525_N</td>\n",
       "      <td>20140509_N</td>\n",
       "      <td>20140423_N</td>\n",
       "      <td>20140407_N</td>\n",
       "      <td>20140322_N</td>\n",
       "      <td>20140218_N</td>\n",
       "      <td>20140202_N</td>\n",
       "      <td>20140117_N</td>\n",
       "      <td>20140101_N</td>\n",
       "    </tr>\n",
       "    <tr>\n",
       "      <th>1</th>\n",
       "      <td>water</td>\n",
       "      <td>997.904</td>\n",
       "      <td>637.595</td>\n",
       "      <td>658.668</td>\n",
       "      <td>-1882.03</td>\n",
       "      <td>-1924.36</td>\n",
       "      <td>997.904</td>\n",
       "      <td>-1739.99</td>\n",
       "      <td>630.087</td>\n",
       "      <td>-1628.24</td>\n",
       "      <td>...</td>\n",
       "      <td>-921.193</td>\n",
       "      <td>-1043.16</td>\n",
       "      <td>-1942.49</td>\n",
       "      <td>267.138</td>\n",
       "      <td>366.608</td>\n",
       "      <td>452.238</td>\n",
       "      <td>211.328</td>\n",
       "      <td>-2203.02</td>\n",
       "      <td>-1180.19</td>\n",
       "      <td>433.906</td>\n",
       "    </tr>\n",
       "    <tr>\n",
       "      <th>2</th>\n",
       "      <td>water</td>\n",
       "      <td>914.198</td>\n",
       "      <td>634.24</td>\n",
       "      <td>593.705</td>\n",
       "      <td>-1625.79</td>\n",
       "      <td>-1672.32</td>\n",
       "      <td>914.198</td>\n",
       "      <td>-692.386</td>\n",
       "      <td>707.626</td>\n",
       "      <td>-1670.59</td>\n",
       "      <td>...</td>\n",
       "      <td>-954.719</td>\n",
       "      <td>-933.934</td>\n",
       "      <td>-625.385</td>\n",
       "      <td>120.059</td>\n",
       "      <td>364.858</td>\n",
       "      <td>476.972</td>\n",
       "      <td>220.878</td>\n",
       "      <td>-2250</td>\n",
       "      <td>-1360.56</td>\n",
       "      <td>524.075</td>\n",
       "    </tr>\n",
       "    <tr>\n",
       "      <th>3</th>\n",
       "      <td>water</td>\n",
       "      <td>3800.81</td>\n",
       "      <td>1671.34</td>\n",
       "      <td>1206.88</td>\n",
       "      <td>449.735</td>\n",
       "      <td>1071.21</td>\n",
       "      <td>546.371</td>\n",
       "      <td>1077.84</td>\n",
       "      <td>214.564</td>\n",
       "      <td>849.599</td>\n",
       "      <td>...</td>\n",
       "      <td>1562.21</td>\n",
       "      <td>1566.16</td>\n",
       "      <td>2208.44</td>\n",
       "      <td>1056.6</td>\n",
       "      <td>385.203</td>\n",
       "      <td>300.56</td>\n",
       "      <td>293.73</td>\n",
       "      <td>2762.57</td>\n",
       "      <td>150.931</td>\n",
       "      <td>3800.81</td>\n",
       "    </tr>\n",
       "    <tr>\n",
       "      <th>4</th>\n",
       "      <td>water</td>\n",
       "      <td>952.178</td>\n",
       "      <td>58.0174</td>\n",
       "      <td>-1599.16</td>\n",
       "      <td>210.714</td>\n",
       "      <td>-1052.63</td>\n",
       "      <td>578.807</td>\n",
       "      <td>-1564.63</td>\n",
       "      <td>-858.39</td>\n",
       "      <td>729.79</td>\n",
       "      <td>...</td>\n",
       "      <td>-1025.88</td>\n",
       "      <td>368.622</td>\n",
       "      <td>-1786.95</td>\n",
       "      <td>-1227.8</td>\n",
       "      <td>304.621</td>\n",
       "      <td>291.336</td>\n",
       "      <td>369.214</td>\n",
       "      <td>-2202.12</td>\n",
       "      <td>600.359</td>\n",
       "      <td>-1343.55</td>\n",
       "    </tr>\n",
       "    <tr>\n",
       "      <th>5</th>\n",
       "      <td>water</td>\n",
       "      <td>1232.12</td>\n",
       "      <td>72.518</td>\n",
       "      <td>-1220.88</td>\n",
       "      <td>380.436</td>\n",
       "      <td>-1256.93</td>\n",
       "      <td>515.805</td>\n",
       "      <td>-1413.18</td>\n",
       "      <td>-802.942</td>\n",
       "      <td>683.254</td>\n",
       "      <td>...</td>\n",
       "      <td>-1813.95</td>\n",
       "      <td>155.624</td>\n",
       "      <td>-1189.71</td>\n",
       "      <td>-924.073</td>\n",
       "      <td>432.15</td>\n",
       "      <td>282.833</td>\n",
       "      <td>298.32</td>\n",
       "      <td>-2197.36</td>\n",
       "      <td>626.379</td>\n",
       "      <td>-826.727</td>\n",
       "    </tr>\n",
       "  </tbody>\n",
       "</table>\n",
       "<p>6 rows × 29 columns</p>\n",
       "</div>"
      ],
      "text/plain": [
       "      0         1           2           3           4           5   \\\n",
       "0  class  max_ndvi  20150720_N  20150602_N  20150517_N  20150501_N   \n",
       "1  water   997.904     637.595     658.668    -1882.03    -1924.36   \n",
       "2  water   914.198      634.24     593.705    -1625.79    -1672.32   \n",
       "3  water   3800.81     1671.34     1206.88     449.735     1071.21   \n",
       "4  water   952.178     58.0174    -1599.16     210.714    -1052.63   \n",
       "5  water   1232.12      72.518    -1220.88     380.436    -1256.93   \n",
       "\n",
       "           6           7           8           9   ...          19  \\\n",
       "0  20150415_N  20150330_N  20150314_N  20150226_N  ...  20140610_N   \n",
       "1     997.904    -1739.99     630.087    -1628.24  ...    -921.193   \n",
       "2     914.198    -692.386     707.626    -1670.59  ...    -954.719   \n",
       "3     546.371     1077.84     214.564     849.599  ...     1562.21   \n",
       "4     578.807    -1564.63     -858.39      729.79  ...    -1025.88   \n",
       "5     515.805    -1413.18    -802.942     683.254  ...    -1813.95   \n",
       "\n",
       "           20          21          22          23          24          25  \\\n",
       "0  20140525_N  20140509_N  20140423_N  20140407_N  20140322_N  20140218_N   \n",
       "1    -1043.16    -1942.49     267.138     366.608     452.238     211.328   \n",
       "2    -933.934    -625.385     120.059     364.858     476.972     220.878   \n",
       "3     1566.16     2208.44      1056.6     385.203      300.56      293.73   \n",
       "4     368.622    -1786.95     -1227.8     304.621     291.336     369.214   \n",
       "5     155.624    -1189.71    -924.073      432.15     282.833      298.32   \n",
       "\n",
       "           26          27          28  \n",
       "0  20140202_N  20140117_N  20140101_N  \n",
       "1    -2203.02    -1180.19     433.906  \n",
       "2       -2250    -1360.56     524.075  \n",
       "3     2762.57     150.931     3800.81  \n",
       "4    -2202.12     600.359    -1343.55  \n",
       "5    -2197.36     626.379    -826.727  \n",
       "\n",
       "[6 rows x 29 columns]"
      ]
     },
     "execution_count": 8,
     "metadata": {},
     "output_type": "execute_result"
    }
   ],
   "source": [
    "df1.head(6)"
   ]
  },
  {
   "cell_type": "code",
   "execution_count": 9,
   "id": "7062891e",
   "metadata": {},
   "outputs": [],
   "source": [
    "from sklearn.preprocessing import LabelEncoder"
   ]
  },
  {
   "cell_type": "code",
   "execution_count": 10,
   "id": "d6e7b429",
   "metadata": {},
   "outputs": [],
   "source": [
    "for i in range (0,29):\n",
    "    df1[i] = LabelEncoder().fit_transform(df1[i])"
   ]
  },
  {
   "cell_type": "code",
   "execution_count": 11,
   "id": "a5d6bf04",
   "metadata": {},
   "outputs": [
    {
     "data": {
      "text/html": [
       "<div>\n",
       "<style scoped>\n",
       "    .dataframe tbody tr th:only-of-type {\n",
       "        vertical-align: middle;\n",
       "    }\n",
       "\n",
       "    .dataframe tbody tr th {\n",
       "        vertical-align: top;\n",
       "    }\n",
       "\n",
       "    .dataframe thead th {\n",
       "        text-align: right;\n",
       "    }\n",
       "</style>\n",
       "<table border=\"1\" class=\"dataframe\">\n",
       "  <thead>\n",
       "    <tr style=\"text-align: right;\">\n",
       "      <th></th>\n",
       "      <th>0</th>\n",
       "      <th>1</th>\n",
       "      <th>2</th>\n",
       "      <th>3</th>\n",
       "      <th>4</th>\n",
       "      <th>5</th>\n",
       "      <th>6</th>\n",
       "      <th>7</th>\n",
       "      <th>8</th>\n",
       "      <th>9</th>\n",
       "      <th>...</th>\n",
       "      <th>19</th>\n",
       "      <th>20</th>\n",
       "      <th>21</th>\n",
       "      <th>22</th>\n",
       "      <th>23</th>\n",
       "      <th>24</th>\n",
       "      <th>25</th>\n",
       "      <th>26</th>\n",
       "      <th>27</th>\n",
       "      <th>28</th>\n",
       "    </tr>\n",
       "  </thead>\n",
       "  <tbody>\n",
       "    <tr>\n",
       "      <th>0</th>\n",
       "      <td>0</td>\n",
       "      <td>10201</td>\n",
       "      <td>899</td>\n",
       "      <td>1267</td>\n",
       "      <td>1473</td>\n",
       "      <td>1138</td>\n",
       "      <td>1521</td>\n",
       "      <td>1161</td>\n",
       "      <td>1869</td>\n",
       "      <td>1223</td>\n",
       "      <td>...</td>\n",
       "      <td>1350</td>\n",
       "      <td>1762</td>\n",
       "      <td>2195</td>\n",
       "      <td>2044</td>\n",
       "      <td>2077</td>\n",
       "      <td>2289</td>\n",
       "      <td>1754</td>\n",
       "      <td>496</td>\n",
       "      <td>2026</td>\n",
       "      <td>2210</td>\n",
       "    </tr>\n",
       "    <tr>\n",
       "      <th>1</th>\n",
       "      <td>6</td>\n",
       "      <td>10200</td>\n",
       "      <td>4440</td>\n",
       "      <td>5942</td>\n",
       "      <td>26</td>\n",
       "      <td>38</td>\n",
       "      <td>10502</td>\n",
       "      <td>15</td>\n",
       "      <td>7398</td>\n",
       "      <td>41</td>\n",
       "      <td>...</td>\n",
       "      <td>35</td>\n",
       "      <td>1</td>\n",
       "      <td>29</td>\n",
       "      <td>2858</td>\n",
       "      <td>5442</td>\n",
       "      <td>5004</td>\n",
       "      <td>1836</td>\n",
       "      <td>21</td>\n",
       "      <td>5</td>\n",
       "      <td>4813</td>\n",
       "    </tr>\n",
       "    <tr>\n",
       "      <th>2</th>\n",
       "      <td>6</td>\n",
       "      <td>10191</td>\n",
       "      <td>4397</td>\n",
       "      <td>5092</td>\n",
       "      <td>16</td>\n",
       "      <td>35</td>\n",
       "      <td>10316</td>\n",
       "      <td>46</td>\n",
       "      <td>8684</td>\n",
       "      <td>47</td>\n",
       "      <td>...</td>\n",
       "      <td>37</td>\n",
       "      <td>16</td>\n",
       "      <td>66</td>\n",
       "      <td>669</td>\n",
       "      <td>5392</td>\n",
       "      <td>5306</td>\n",
       "      <td>1926</td>\n",
       "      <td>22</td>\n",
       "      <td>10</td>\n",
       "      <td>6173</td>\n",
       "    </tr>\n",
       "    <tr>\n",
       "      <th>3</th>\n",
       "      <td>6</td>\n",
       "      <td>765</td>\n",
       "      <td>625</td>\n",
       "      <td>382</td>\n",
       "      <td>4124</td>\n",
       "      <td>178</td>\n",
       "      <td>6261</td>\n",
       "      <td>173</td>\n",
       "      <td>2015</td>\n",
       "      <td>10246</td>\n",
       "      <td>...</td>\n",
       "      <td>843</td>\n",
       "      <td>1097</td>\n",
       "      <td>2563</td>\n",
       "      <td>261</td>\n",
       "      <td>5885</td>\n",
       "      <td>3334</td>\n",
       "      <td>2755</td>\n",
       "      <td>784</td>\n",
       "      <td>1235</td>\n",
       "      <td>4117</td>\n",
       "    </tr>\n",
       "    <tr>\n",
       "      <th>4</th>\n",
       "      <td>6</td>\n",
       "      <td>10192</td>\n",
       "      <td>3716</td>\n",
       "      <td>12</td>\n",
       "      <td>1550</td>\n",
       "      <td>2</td>\n",
       "      <td>6630</td>\n",
       "      <td>13</td>\n",
       "      <td>43</td>\n",
       "      <td>7147</td>\n",
       "      <td>...</td>\n",
       "      <td>0</td>\n",
       "      <td>3852</td>\n",
       "      <td>22</td>\n",
       "      <td>10</td>\n",
       "      <td>3863</td>\n",
       "      <td>3241</td>\n",
       "      <td>4176</td>\n",
       "      <td>20</td>\n",
       "      <td>7135</td>\n",
       "      <td>20</td>\n",
       "    </tr>\n",
       "    <tr>\n",
       "      <th>5</th>\n",
       "      <td>6</td>\n",
       "      <td>53</td>\n",
       "      <td>6134</td>\n",
       "      <td>5</td>\n",
       "      <td>3402</td>\n",
       "      <td>16</td>\n",
       "      <td>5906</td>\n",
       "      <td>10</td>\n",
       "      <td>37</td>\n",
       "      <td>6129</td>\n",
       "      <td>...</td>\n",
       "      <td>8</td>\n",
       "      <td>1073</td>\n",
       "      <td>6</td>\n",
       "      <td>82</td>\n",
       "      <td>6729</td>\n",
       "      <td>3138</td>\n",
       "      <td>2816</td>\n",
       "      <td>19</td>\n",
       "      <td>7424</td>\n",
       "      <td>117</td>\n",
       "    </tr>\n",
       "    <tr>\n",
       "      <th>6</th>\n",
       "      <td>2</td>\n",
       "      <td>2198</td>\n",
       "      <td>3040</td>\n",
       "      <td>6545</td>\n",
       "      <td>1464</td>\n",
       "      <td>5454</td>\n",
       "      <td>7496</td>\n",
       "      <td>6480</td>\n",
       "      <td>5948</td>\n",
       "      <td>4825</td>\n",
       "      <td>...</td>\n",
       "      <td>6460</td>\n",
       "      <td>5657</td>\n",
       "      <td>5236</td>\n",
       "      <td>4664</td>\n",
       "      <td>6834</td>\n",
       "      <td>3754</td>\n",
       "      <td>8422</td>\n",
       "      <td>2960</td>\n",
       "      <td>1661</td>\n",
       "      <td>9880</td>\n",
       "    </tr>\n",
       "  </tbody>\n",
       "</table>\n",
       "<p>7 rows × 29 columns</p>\n",
       "</div>"
      ],
      "text/plain": [
       "   0      1     2     3     4     5      6     7     8      9   ...    19  \\\n",
       "0   0  10201   899  1267  1473  1138   1521  1161  1869   1223  ...  1350   \n",
       "1   6  10200  4440  5942    26    38  10502    15  7398     41  ...    35   \n",
       "2   6  10191  4397  5092    16    35  10316    46  8684     47  ...    37   \n",
       "3   6    765   625   382  4124   178   6261   173  2015  10246  ...   843   \n",
       "4   6  10192  3716    12  1550     2   6630    13    43   7147  ...     0   \n",
       "5   6     53  6134     5  3402    16   5906    10    37   6129  ...     8   \n",
       "6   2   2198  3040  6545  1464  5454   7496  6480  5948   4825  ...  6460   \n",
       "\n",
       "     20    21    22    23    24    25    26    27    28  \n",
       "0  1762  2195  2044  2077  2289  1754   496  2026  2210  \n",
       "1     1    29  2858  5442  5004  1836    21     5  4813  \n",
       "2    16    66   669  5392  5306  1926    22    10  6173  \n",
       "3  1097  2563   261  5885  3334  2755   784  1235  4117  \n",
       "4  3852    22    10  3863  3241  4176    20  7135    20  \n",
       "5  1073     6    82  6729  3138  2816    19  7424   117  \n",
       "6  5657  5236  4664  6834  3754  8422  2960  1661  9880  \n",
       "\n",
       "[7 rows x 29 columns]"
      ]
     },
     "execution_count": 11,
     "metadata": {},
     "output_type": "execute_result"
    }
   ],
   "source": [
    "df1.head(7)"
   ]
  },
  {
   "cell_type": "code",
   "execution_count": 12,
   "id": "f0af4139",
   "metadata": {},
   "outputs": [],
   "source": [
    "from sklearn.model_selection import train_test_split"
   ]
  },
  {
   "cell_type": "code",
   "execution_count": 13,
   "id": "1d472963",
   "metadata": {},
   "outputs": [
    {
     "name": "stdout",
     "output_type": "stream",
     "text": [
      "(7382, 28) (3164, 28)\n"
     ]
    }
   ],
   "source": [
    "xtrain,xtest,ytrain,ytest=train_test_split(df1.drop(columns=[0]),df1[0],test_size=0.3)\n",
    "print(xtrain.shape,xtest.shape)"
   ]
  },
  {
   "cell_type": "code",
   "execution_count": 14,
   "id": "a3bd48f9",
   "metadata": {},
   "outputs": [],
   "source": [
    "from sklearn.tree import DecisionTreeClassifier"
   ]
  },
  {
   "cell_type": "code",
   "execution_count": 15,
   "id": "2520c5ec",
   "metadata": {},
   "outputs": [
    {
     "data": {
      "text/html": [
       "<style>#sk-container-id-1 {color: black;background-color: white;}#sk-container-id-1 pre{padding: 0;}#sk-container-id-1 div.sk-toggleable {background-color: white;}#sk-container-id-1 label.sk-toggleable__label {cursor: pointer;display: block;width: 100%;margin-bottom: 0;padding: 0.3em;box-sizing: border-box;text-align: center;}#sk-container-id-1 label.sk-toggleable__label-arrow:before {content: \"▸\";float: left;margin-right: 0.25em;color: #696969;}#sk-container-id-1 label.sk-toggleable__label-arrow:hover:before {color: black;}#sk-container-id-1 div.sk-estimator:hover label.sk-toggleable__label-arrow:before {color: black;}#sk-container-id-1 div.sk-toggleable__content {max-height: 0;max-width: 0;overflow: hidden;text-align: left;background-color: #f0f8ff;}#sk-container-id-1 div.sk-toggleable__content pre {margin: 0.2em;color: black;border-radius: 0.25em;background-color: #f0f8ff;}#sk-container-id-1 input.sk-toggleable__control:checked~div.sk-toggleable__content {max-height: 200px;max-width: 100%;overflow: auto;}#sk-container-id-1 input.sk-toggleable__control:checked~label.sk-toggleable__label-arrow:before {content: \"▾\";}#sk-container-id-1 div.sk-estimator input.sk-toggleable__control:checked~label.sk-toggleable__label {background-color: #d4ebff;}#sk-container-id-1 div.sk-label input.sk-toggleable__control:checked~label.sk-toggleable__label {background-color: #d4ebff;}#sk-container-id-1 input.sk-hidden--visually {border: 0;clip: rect(1px 1px 1px 1px);clip: rect(1px, 1px, 1px, 1px);height: 1px;margin: -1px;overflow: hidden;padding: 0;position: absolute;width: 1px;}#sk-container-id-1 div.sk-estimator {font-family: monospace;background-color: #f0f8ff;border: 1px dotted black;border-radius: 0.25em;box-sizing: border-box;margin-bottom: 0.5em;}#sk-container-id-1 div.sk-estimator:hover {background-color: #d4ebff;}#sk-container-id-1 div.sk-parallel-item::after {content: \"\";width: 100%;border-bottom: 1px solid gray;flex-grow: 1;}#sk-container-id-1 div.sk-label:hover label.sk-toggleable__label {background-color: #d4ebff;}#sk-container-id-1 div.sk-serial::before {content: \"\";position: absolute;border-left: 1px solid gray;box-sizing: border-box;top: 0;bottom: 0;left: 50%;z-index: 0;}#sk-container-id-1 div.sk-serial {display: flex;flex-direction: column;align-items: center;background-color: white;padding-right: 0.2em;padding-left: 0.2em;position: relative;}#sk-container-id-1 div.sk-item {position: relative;z-index: 1;}#sk-container-id-1 div.sk-parallel {display: flex;align-items: stretch;justify-content: center;background-color: white;position: relative;}#sk-container-id-1 div.sk-item::before, #sk-container-id-1 div.sk-parallel-item::before {content: \"\";position: absolute;border-left: 1px solid gray;box-sizing: border-box;top: 0;bottom: 0;left: 50%;z-index: -1;}#sk-container-id-1 div.sk-parallel-item {display: flex;flex-direction: column;z-index: 1;position: relative;background-color: white;}#sk-container-id-1 div.sk-parallel-item:first-child::after {align-self: flex-end;width: 50%;}#sk-container-id-1 div.sk-parallel-item:last-child::after {align-self: flex-start;width: 50%;}#sk-container-id-1 div.sk-parallel-item:only-child::after {width: 0;}#sk-container-id-1 div.sk-dashed-wrapped {border: 1px dashed gray;margin: 0 0.4em 0.5em 0.4em;box-sizing: border-box;padding-bottom: 0.4em;background-color: white;}#sk-container-id-1 div.sk-label label {font-family: monospace;font-weight: bold;display: inline-block;line-height: 1.2em;}#sk-container-id-1 div.sk-label-container {text-align: center;}#sk-container-id-1 div.sk-container {/* jupyter's `normalize.less` sets `[hidden] { display: none; }` but bootstrap.min.css set `[hidden] { display: none !important; }` so we also need the `!important` here to be able to override the default hidden behavior on the sphinx rendered scikit-learn.org. See: https://github.com/scikit-learn/scikit-learn/issues/21755 */display: inline-block !important;position: relative;}#sk-container-id-1 div.sk-text-repr-fallback {display: none;}</style><div id=\"sk-container-id-1\" class=\"sk-top-container\"><div class=\"sk-text-repr-fallback\"><pre>DecisionTreeClassifier(criterion=&#x27;entropy&#x27;, max_depth=4)</pre><b>In a Jupyter environment, please rerun this cell to show the HTML representation or trust the notebook. <br />On GitHub, the HTML representation is unable to render, please try loading this page with nbviewer.org.</b></div><div class=\"sk-container\" hidden><div class=\"sk-item\"><div class=\"sk-estimator sk-toggleable\"><input class=\"sk-toggleable__control sk-hidden--visually\" id=\"sk-estimator-id-1\" type=\"checkbox\" checked><label for=\"sk-estimator-id-1\" class=\"sk-toggleable__label sk-toggleable__label-arrow\">DecisionTreeClassifier</label><div class=\"sk-toggleable__content\"><pre>DecisionTreeClassifier(criterion=&#x27;entropy&#x27;, max_depth=4)</pre></div></div></div></div></div>"
      ],
      "text/plain": [
       "DecisionTreeClassifier(criterion='entropy', max_depth=4)"
      ]
     },
     "execution_count": 15,
     "metadata": {},
     "output_type": "execute_result"
    }
   ],
   "source": [
    "dt=DecisionTreeClassifier(criterion=\"entropy\", max_depth=4)\n",
    "dt.fit(xtrain, ytrain)"
   ]
  },
  {
   "cell_type": "code",
   "execution_count": 16,
   "id": "eaa3007a",
   "metadata": {},
   "outputs": [],
   "source": [
    "from sklearn.metrics import accuracy_score"
   ]
  },
  {
   "cell_type": "code",
   "execution_count": 17,
   "id": "6923c157",
   "metadata": {},
   "outputs": [],
   "source": [
    "train_pred = dt.predict(xtrain)\n",
    "test_pred= dt.predict(xtest)"
   ]
  },
  {
   "cell_type": "code",
   "execution_count": 18,
   "id": "a69befc3",
   "metadata": {},
   "outputs": [
    {
     "name": "stdout",
     "output_type": "stream",
     "text": [
      "training accuracy 0.8482795990246546\n",
      "testing accuracy 0.8258533501896334\n"
     ]
    }
   ],
   "source": [
    "print(\"training accuracy\", accuracy_score(train_pred, ytrain))\n",
    "print(\"testing accuracy\", accuracy_score(test_pred, ytest))"
   ]
  },
  {
   "cell_type": "code",
   "execution_count": 19,
   "id": "354778ee",
   "metadata": {},
   "outputs": [],
   "source": [
    "from sklearn.tree import plot_tree"
   ]
  },
  {
   "cell_type": "code",
   "execution_count": 20,
   "id": "f0cd01d5",
   "metadata": {},
   "outputs": [
    {
     "data": {
      "text/plain": [
       "[Text(0.5, 0.9, 'X[0] <= 2058.0\\nentropy = 1.405\\nsamples = 7382\\nvalue = [1, 1009, 5205, 305, 684, 36, 142]'),\n",
       " Text(0.25, 0.7, 'X[0] <= 1066.5\\nentropy = 2.102\\nsamples = 1460\\nvalue = [0, 333, 178, 181, 630, 7, 131]'),\n",
       " Text(0.125, 0.5, 'X[27] <= 122.5\\nentropy = 1.25\\nsamples = 752\\nvalue = [0, 32, 19, 26, 556, 1, 118]'),\n",
       " Text(0.0625, 0.3, 'X[12] <= 5275.0\\nentropy = 0.268\\nsamples = 79\\nvalue = [0, 1, 0, 0, 2, 0, 76]'),\n",
       " Text(0.03125, 0.1, 'entropy = 0.101\\nsamples = 76\\nvalue = [0, 0, 0, 0, 1, 0, 75]'),\n",
       " Text(0.09375, 0.1, 'entropy = 1.585\\nsamples = 3\\nvalue = [0, 1, 0, 0, 1, 0, 1]'),\n",
       " Text(0.1875, 0.3, 'X[0] <= 515.0\\nentropy = 1.026\\nsamples = 673\\nvalue = [0, 31, 19, 26, 554, 1, 42]'),\n",
       " Text(0.15625, 0.1, 'entropy = 0.253\\nsamples = 313\\nvalue = [0, 0, 0, 4, 302, 0, 7]'),\n",
       " Text(0.21875, 0.1, 'entropy = 1.486\\nsamples = 360\\nvalue = [0, 31, 19, 22, 252, 1, 35]'),\n",
       " Text(0.375, 0.5, 'X[22] <= 2539.5\\nentropy = 1.993\\nsamples = 708\\nvalue = [0, 301, 159, 155, 74, 6, 13]'),\n",
       " Text(0.3125, 0.3, 'X[15] <= 4350.0\\nentropy = 1.808\\nsamples = 239\\nvalue = [0, 59, 16, 122, 37, 2, 3]'),\n",
       " Text(0.28125, 0.1, 'entropy = 1.373\\nsamples = 178\\nvalue = [0, 31, 5, 120, 21, 0, 1]'),\n",
       " Text(0.34375, 0.1, 'entropy = 1.953\\nsamples = 61\\nvalue = [0, 28, 11, 2, 16, 2, 2]'),\n",
       " Text(0.4375, 0.3, 'X[16] <= 6328.5\\nentropy = 1.751\\nsamples = 469\\nvalue = [0, 242, 143, 33, 37, 4, 10]'),\n",
       " Text(0.40625, 0.1, 'entropy = 1.432\\nsamples = 313\\nvalue = [0, 163, 126, 2, 12, 3, 7]'),\n",
       " Text(0.46875, 0.1, 'entropy = 1.888\\nsamples = 156\\nvalue = [0, 79, 17, 31, 25, 1, 3]'),\n",
       " Text(0.75, 0.7, 'X[0] <= 4182.5\\nentropy = 0.793\\nsamples = 5922\\nvalue = [1, 676, 5027, 124, 54, 29, 11]'),\n",
       " Text(0.625, 0.5, 'X[10] <= 4394.5\\nentropy = 1.44\\nsamples = 1507\\nvalue = [0, 487, 876, 93, 32, 11, 8]'),\n",
       " Text(0.5625, 0.3, 'X[1] <= 5345.0\\nentropy = 1.413\\nsamples = 664\\nvalue = [0, 368, 242, 32, 16, 3, 3]'),\n",
       " Text(0.53125, 0.1, 'entropy = 1.19\\nsamples = 457\\nvalue = [0, 322, 107, 11, 13, 2, 2]'),\n",
       " Text(0.59375, 0.1, 'entropy = 1.382\\nsamples = 207\\nvalue = [0, 46, 135, 21, 3, 1, 1]'),\n",
       " Text(0.6875, 0.3, 'X[16] <= 8077.5\\nentropy = 1.198\\nsamples = 843\\nvalue = [0, 119, 634, 61, 16, 8, 5]'),\n",
       " Text(0.65625, 0.1, 'entropy = 0.944\\nsamples = 690\\nvalue = [0, 86, 565, 19, 10, 6, 4]'),\n",
       " Text(0.71875, 0.1, 'entropy = 1.82\\nsamples = 153\\nvalue = [0, 33, 69, 42, 6, 2, 1]'),\n",
       " Text(0.875, 0.5, 'X[1] <= 6398.5\\nentropy = 0.409\\nsamples = 4415\\nvalue = [1, 189, 4151, 31, 22, 18, 3]'),\n",
       " Text(0.8125, 0.3, 'X[2] <= 5683.0\\nentropy = 0.653\\nsamples = 1909\\nvalue = [1, 177, 1685, 23, 13, 7, 3]'),\n",
       " Text(0.78125, 0.1, 'entropy = 1.073\\nsamples = 654\\nvalue = [1, 155, 475, 9, 9, 3, 2]'),\n",
       " Text(0.84375, 0.1, 'entropy = 0.286\\nsamples = 1255\\nvalue = [0, 22, 1210, 14, 4, 4, 1]'),\n",
       " Text(0.9375, 0.3, 'X[20] <= 6510.0\\nentropy = 0.15\\nsamples = 2506\\nvalue = [0, 12, 2466, 8, 9, 11, 0]'),\n",
       " Text(0.90625, 0.1, 'entropy = 0.055\\nsamples = 1454\\nvalue = [0, 6, 1446, 1, 1, 0, 0]'),\n",
       " Text(0.96875, 0.1, 'entropy = 0.256\\nsamples = 1052\\nvalue = [0, 6, 1020, 7, 8, 11, 0]')]"
      ]
     },
     "execution_count": 20,
     "metadata": {},
     "output_type": "execute_result"
    },
    {
     "data": {
      "image/png": "[encoded data removed]",
      "text/plain": [
       "<Figure size 432x288 with 1 Axes>"
      ]
     },
     "metadata": {
      "needs_background": "light"
     },
     "output_type": "display_data"
    }
   ],
   "source": [
    "plot_tree(dt)"
   ]
  },
  {
   "cell_type": "code",
   "execution_count": 21,
   "id": "18d0fe22",
   "metadata": {},
   "outputs": [],
   "source": [
    "import seaborn as sns\n",
    "import matplotlib.pyplot as plt"
   ]
  },
  {
   "cell_type": "code",
   "execution_count": 22,
   "id": "0a244317",
   "metadata": {},
   "outputs": [
    {
     "data": {
      "text/plain": [
       "<AxesSubplot:>"
      ]
     },
     "execution_count": 22,
     "metadata": {},
     "output_type": "execute_result"
    },
    {
     "data": {
      "image/png": "[encoded data removed]",
      "text/plain": [
       "<Figure size 432x288 with 2 Axes>"
      ]
     },
     "metadata": {
      "needs_background": "light"
     },
     "output_type": "display_data"
    }
   ],
   "source": [
    "sns.heatmap(np.corrcoef(df1.values.T),annot=True)\n",
    " "
   ]
  },
  {
   "cell_type": "markdown",
   "id": "31f633d1",
   "metadata": {},
   "source": [
    "# Using SVM"
   ]
  },
  {
   "cell_type": "code",
   "execution_count": 23,
   "id": "59a88d24",
   "metadata": {},
   "outputs": [],
   "source": [
    "from sklearn.svm import SVC\n",
    "import matplotlib.pyplot as plt"
   ]
  },
  {
   "cell_type": "code",
   "execution_count": 24,
   "id": "162bf9a5",
   "metadata": {},
   "outputs": [
    {
     "data": {
      "text/html": [
       "<div>\n",
       "<style scoped>\n",
       "    .dataframe tbody tr th:only-of-type {\n",
       "        vertical-align: middle;\n",
       "    }\n",
       "\n",
       "    .dataframe tbody tr th {\n",
       "        vertical-align: top;\n",
       "    }\n",
       "\n",
       "    .dataframe thead th {\n",
       "        text-align: right;\n",
       "    }\n",
       "</style>\n",
       "<table border=\"1\" class=\"dataframe\">\n",
       "  <thead>\n",
       "    <tr style=\"text-align: right;\">\n",
       "      <th></th>\n",
       "      <th>0</th>\n",
       "      <th>1</th>\n",
       "      <th>2</th>\n",
       "      <th>3</th>\n",
       "      <th>4</th>\n",
       "      <th>5</th>\n",
       "      <th>6</th>\n",
       "      <th>7</th>\n",
       "      <th>8</th>\n",
       "      <th>9</th>\n",
       "      <th>...</th>\n",
       "      <th>19</th>\n",
       "      <th>20</th>\n",
       "      <th>21</th>\n",
       "      <th>22</th>\n",
       "      <th>23</th>\n",
       "      <th>24</th>\n",
       "      <th>25</th>\n",
       "      <th>26</th>\n",
       "      <th>27</th>\n",
       "      <th>28</th>\n",
       "    </tr>\n",
       "  </thead>\n",
       "  <tbody>\n",
       "    <tr>\n",
       "      <th>0</th>\n",
       "      <td>0</td>\n",
       "      <td>10201</td>\n",
       "      <td>899</td>\n",
       "      <td>1267</td>\n",
       "      <td>1473</td>\n",
       "      <td>1138</td>\n",
       "      <td>1521</td>\n",
       "      <td>1161</td>\n",
       "      <td>1869</td>\n",
       "      <td>1223</td>\n",
       "      <td>...</td>\n",
       "      <td>1350</td>\n",
       "      <td>1762</td>\n",
       "      <td>2195</td>\n",
       "      <td>2044</td>\n",
       "      <td>2077</td>\n",
       "      <td>2289</td>\n",
       "      <td>1754</td>\n",
       "      <td>496</td>\n",
       "      <td>2026</td>\n",
       "      <td>2210</td>\n",
       "    </tr>\n",
       "    <tr>\n",
       "      <th>1</th>\n",
       "      <td>6</td>\n",
       "      <td>10200</td>\n",
       "      <td>4440</td>\n",
       "      <td>5942</td>\n",
       "      <td>26</td>\n",
       "      <td>38</td>\n",
       "      <td>10502</td>\n",
       "      <td>15</td>\n",
       "      <td>7398</td>\n",
       "      <td>41</td>\n",
       "      <td>...</td>\n",
       "      <td>35</td>\n",
       "      <td>1</td>\n",
       "      <td>29</td>\n",
       "      <td>2858</td>\n",
       "      <td>5442</td>\n",
       "      <td>5004</td>\n",
       "      <td>1836</td>\n",
       "      <td>21</td>\n",
       "      <td>5</td>\n",
       "      <td>4813</td>\n",
       "    </tr>\n",
       "    <tr>\n",
       "      <th>2</th>\n",
       "      <td>6</td>\n",
       "      <td>10191</td>\n",
       "      <td>4397</td>\n",
       "      <td>5092</td>\n",
       "      <td>16</td>\n",
       "      <td>35</td>\n",
       "      <td>10316</td>\n",
       "      <td>46</td>\n",
       "      <td>8684</td>\n",
       "      <td>47</td>\n",
       "      <td>...</td>\n",
       "      <td>37</td>\n",
       "      <td>16</td>\n",
       "      <td>66</td>\n",
       "      <td>669</td>\n",
       "      <td>5392</td>\n",
       "      <td>5306</td>\n",
       "      <td>1926</td>\n",
       "      <td>22</td>\n",
       "      <td>10</td>\n",
       "      <td>6173</td>\n",
       "    </tr>\n",
       "    <tr>\n",
       "      <th>3</th>\n",
       "      <td>6</td>\n",
       "      <td>765</td>\n",
       "      <td>625</td>\n",
       "      <td>382</td>\n",
       "      <td>4124</td>\n",
       "      <td>178</td>\n",
       "      <td>6261</td>\n",
       "      <td>173</td>\n",
       "      <td>2015</td>\n",
       "      <td>10246</td>\n",
       "      <td>...</td>\n",
       "      <td>843</td>\n",
       "      <td>1097</td>\n",
       "      <td>2563</td>\n",
       "      <td>261</td>\n",
       "      <td>5885</td>\n",
       "      <td>3334</td>\n",
       "      <td>2755</td>\n",
       "      <td>784</td>\n",
       "      <td>1235</td>\n",
       "      <td>4117</td>\n",
       "    </tr>\n",
       "    <tr>\n",
       "      <th>4</th>\n",
       "      <td>6</td>\n",
       "      <td>10192</td>\n",
       "      <td>3716</td>\n",
       "      <td>12</td>\n",
       "      <td>1550</td>\n",
       "      <td>2</td>\n",
       "      <td>6630</td>\n",
       "      <td>13</td>\n",
       "      <td>43</td>\n",
       "      <td>7147</td>\n",
       "      <td>...</td>\n",
       "      <td>0</td>\n",
       "      <td>3852</td>\n",
       "      <td>22</td>\n",
       "      <td>10</td>\n",
       "      <td>3863</td>\n",
       "      <td>3241</td>\n",
       "      <td>4176</td>\n",
       "      <td>20</td>\n",
       "      <td>7135</td>\n",
       "      <td>20</td>\n",
       "    </tr>\n",
       "    <tr>\n",
       "      <th>...</th>\n",
       "      <td>...</td>\n",
       "      <td>...</td>\n",
       "      <td>...</td>\n",
       "      <td>...</td>\n",
       "      <td>...</td>\n",
       "      <td>...</td>\n",
       "      <td>...</td>\n",
       "      <td>...</td>\n",
       "      <td>...</td>\n",
       "      <td>...</td>\n",
       "      <td>...</td>\n",
       "      <td>...</td>\n",
       "      <td>...</td>\n",
       "      <td>...</td>\n",
       "      <td>...</td>\n",
       "      <td>...</td>\n",
       "      <td>...</td>\n",
       "      <td>...</td>\n",
       "      <td>...</td>\n",
       "      <td>...</td>\n",
       "      <td>...</td>\n",
       "    </tr>\n",
       "    <tr>\n",
       "      <th>10541</th>\n",
       "      <td>4</td>\n",
       "      <td>3433</td>\n",
       "      <td>4041</td>\n",
       "      <td>2813</td>\n",
       "      <td>3507</td>\n",
       "      <td>2882</td>\n",
       "      <td>3993</td>\n",
       "      <td>2720</td>\n",
       "      <td>4306</td>\n",
       "      <td>2998</td>\n",
       "      <td>...</td>\n",
       "      <td>6874</td>\n",
       "      <td>6471</td>\n",
       "      <td>1179</td>\n",
       "      <td>3994</td>\n",
       "      <td>254</td>\n",
       "      <td>5111</td>\n",
       "      <td>4769</td>\n",
       "      <td>1641</td>\n",
       "      <td>2928</td>\n",
       "      <td>5825</td>\n",
       "    </tr>\n",
       "    <tr>\n",
       "      <th>10542</th>\n",
       "      <td>4</td>\n",
       "      <td>549</td>\n",
       "      <td>802</td>\n",
       "      <td>710</td>\n",
       "      <td>561</td>\n",
       "      <td>132</td>\n",
       "      <td>1411</td>\n",
       "      <td>141</td>\n",
       "      <td>1093</td>\n",
       "      <td>673</td>\n",
       "      <td>...</td>\n",
       "      <td>10253</td>\n",
       "      <td>1871</td>\n",
       "      <td>579</td>\n",
       "      <td>644</td>\n",
       "      <td>993</td>\n",
       "      <td>643</td>\n",
       "      <td>270</td>\n",
       "      <td>407</td>\n",
       "      <td>2624</td>\n",
       "      <td>879</td>\n",
       "    </tr>\n",
       "    <tr>\n",
       "      <th>10543</th>\n",
       "      <td>4</td>\n",
       "      <td>1126</td>\n",
       "      <td>1952</td>\n",
       "      <td>486</td>\n",
       "      <td>3759</td>\n",
       "      <td>3396</td>\n",
       "      <td>273</td>\n",
       "      <td>3187</td>\n",
       "      <td>1351</td>\n",
       "      <td>8473</td>\n",
       "      <td>...</td>\n",
       "      <td>4925</td>\n",
       "      <td>4336</td>\n",
       "      <td>6958</td>\n",
       "      <td>5221</td>\n",
       "      <td>3297</td>\n",
       "      <td>8817</td>\n",
       "      <td>3108</td>\n",
       "      <td>1180</td>\n",
       "      <td>3457</td>\n",
       "      <td>4223</td>\n",
       "    </tr>\n",
       "    <tr>\n",
       "      <th>10544</th>\n",
       "      <td>4</td>\n",
       "      <td>608</td>\n",
       "      <td>1216</td>\n",
       "      <td>695</td>\n",
       "      <td>358</td>\n",
       "      <td>447</td>\n",
       "      <td>10347</td>\n",
       "      <td>1071</td>\n",
       "      <td>1175</td>\n",
       "      <td>933</td>\n",
       "      <td>...</td>\n",
       "      <td>1009</td>\n",
       "      <td>1810</td>\n",
       "      <td>1827</td>\n",
       "      <td>1661</td>\n",
       "      <td>1933</td>\n",
       "      <td>2380</td>\n",
       "      <td>8155</td>\n",
       "      <td>433</td>\n",
       "      <td>1432</td>\n",
       "      <td>1465</td>\n",
       "    </tr>\n",
       "    <tr>\n",
       "      <th>10545</th>\n",
       "      <td>4</td>\n",
       "      <td>2749</td>\n",
       "      <td>5457</td>\n",
       "      <td>950</td>\n",
       "      <td>4718</td>\n",
       "      <td>3849</td>\n",
       "      <td>972</td>\n",
       "      <td>5033</td>\n",
       "      <td>6291</td>\n",
       "      <td>2055</td>\n",
       "      <td>...</td>\n",
       "      <td>6904</td>\n",
       "      <td>3331</td>\n",
       "      <td>5713</td>\n",
       "      <td>2012</td>\n",
       "      <td>5154</td>\n",
       "      <td>5928</td>\n",
       "      <td>1184</td>\n",
       "      <td>2919</td>\n",
       "      <td>737</td>\n",
       "      <td>2678</td>\n",
       "    </tr>\n",
       "  </tbody>\n",
       "</table>\n",
       "<p>10546 rows × 29 columns</p>\n",
       "</div>"
      ],
      "text/plain": [
       "       0      1     2     3     4     5      6     7     8      9   ...  \\\n",
       "0       0  10201   899  1267  1473  1138   1521  1161  1869   1223  ...   \n",
       "1       6  10200  4440  5942    26    38  10502    15  7398     41  ...   \n",
       "2       6  10191  4397  5092    16    35  10316    46  8684     47  ...   \n",
       "3       6    765   625   382  4124   178   6261   173  2015  10246  ...   \n",
       "4       6  10192  3716    12  1550     2   6630    13    43   7147  ...   \n",
       "...    ..    ...   ...   ...   ...   ...    ...   ...   ...    ...  ...   \n",
       "10541   4   3433  4041  2813  3507  2882   3993  2720  4306   2998  ...   \n",
       "10542   4    549   802   710   561   132   1411   141  1093    673  ...   \n",
       "10543   4   1126  1952   486  3759  3396    273  3187  1351   8473  ...   \n",
       "10544   4    608  1216   695   358   447  10347  1071  1175    933  ...   \n",
       "10545   4   2749  5457   950  4718  3849    972  5033  6291   2055  ...   \n",
       "\n",
       "          19    20    21    22    23    24    25    26    27    28  \n",
       "0       1350  1762  2195  2044  2077  2289  1754   496  2026  2210  \n",
       "1         35     1    29  2858  5442  5004  1836    21     5  4813  \n",
       "2         37    16    66   669  5392  5306  1926    22    10  6173  \n",
       "3        843  1097  2563   261  5885  3334  2755   784  1235  4117  \n",
       "4          0  3852    22    10  3863  3241  4176    20  7135    20  \n",
       "...      ...   ...   ...   ...   ...   ...   ...   ...   ...   ...  \n",
       "10541   6874  6471  1179  3994   254  5111  4769  1641  2928  5825  \n",
       "10542  10253  1871   579   644   993   643   270   407  2624   879  \n",
       "10543   4925  4336  6958  5221  3297  8817  3108  1180  3457  4223  \n",
       "10544   1009  1810  1827  1661  1933  2380  8155   433  1432  1465  \n",
       "10545   6904  3331  5713  2012  5154  5928  1184  2919   737  2678  \n",
       "\n",
       "[10546 rows x 29 columns]"
      ]
     },
     "execution_count": 24,
     "metadata": {},
     "output_type": "execute_result"
    }
   ],
   "source": [
    "df1"
   ]
  },
  {
   "cell_type": "code",
   "execution_count": 25,
   "id": "c68a89d0",
   "metadata": {},
   "outputs": [
    {
     "data": {
      "text/html": [
       "<style>#sk-container-id-2 {color: black;background-color: white;}#sk-container-id-2 pre{padding: 0;}#sk-container-id-2 div.sk-toggleable {background-color: white;}#sk-container-id-2 label.sk-toggleable__label {cursor: pointer;display: block;width: 100%;margin-bottom: 0;padding: 0.3em;box-sizing: border-box;text-align: center;}#sk-container-id-2 label.sk-toggleable__label-arrow:before {content: \"▸\";float: left;margin-right: 0.25em;color: #696969;}#sk-container-id-2 label.sk-toggleable__label-arrow:hover:before {color: black;}#sk-container-id-2 div.sk-estimator:hover label.sk-toggleable__label-arrow:before {color: black;}#sk-container-id-2 div.sk-toggleable__content {max-height: 0;max-width: 0;overflow: hidden;text-align: left;background-color: #f0f8ff;}#sk-container-id-2 div.sk-toggleable__content pre {margin: 0.2em;color: black;border-radius: 0.25em;background-color: #f0f8ff;}#sk-container-id-2 input.sk-toggleable__control:checked~div.sk-toggleable__content {max-height: 200px;max-width: 100%;overflow: auto;}#sk-container-id-2 input.sk-toggleable__control:checked~label.sk-toggleable__label-arrow:before {content: \"▾\";}#sk-container-id-2 div.sk-estimator input.sk-toggleable__control:checked~label.sk-toggleable__label {background-color: #d4ebff;}#sk-container-id-2 div.sk-label input.sk-toggleable__control:checked~label.sk-toggleable__label {background-color: #d4ebff;}#sk-container-id-2 input.sk-hidden--visually {border: 0;clip: rect(1px 1px 1px 1px);clip: rect(1px, 1px, 1px, 1px);height: 1px;margin: -1px;overflow: hidden;padding: 0;position: absolute;width: 1px;}#sk-container-id-2 div.sk-estimator {font-family: monospace;background-color: #f0f8ff;border: 1px dotted black;border-radius: 0.25em;box-sizing: border-box;margin-bottom: 0.5em;}#sk-container-id-2 div.sk-estimator:hover {background-color: #d4ebff;}#sk-container-id-2 div.sk-parallel-item::after {content: \"\";width: 100%;border-bottom: 1px solid gray;flex-grow: 1;}#sk-container-id-2 div.sk-label:hover label.sk-toggleable__label {background-color: #d4ebff;}#sk-container-id-2 div.sk-serial::before {content: \"\";position: absolute;border-left: 1px solid gray;box-sizing: border-box;top: 0;bottom: 0;left: 50%;z-index: 0;}#sk-container-id-2 div.sk-serial {display: flex;flex-direction: column;align-items: center;background-color: white;padding-right: 0.2em;padding-left: 0.2em;position: relative;}#sk-container-id-2 div.sk-item {position: relative;z-index: 1;}#sk-container-id-2 div.sk-parallel {display: flex;align-items: stretch;justify-content: center;background-color: white;position: relative;}#sk-container-id-2 div.sk-item::before, #sk-container-id-2 div.sk-parallel-item::before {content: \"\";position: absolute;border-left: 1px solid gray;box-sizing: border-box;top: 0;bottom: 0;left: 50%;z-index: -1;}#sk-container-id-2 div.sk-parallel-item {display: flex;flex-direction: column;z-index: 1;position: relative;background-color: white;}#sk-container-id-2 div.sk-parallel-item:first-child::after {align-self: flex-end;width: 50%;}#sk-container-id-2 div.sk-parallel-item:last-child::after {align-self: flex-start;width: 50%;}#sk-container-id-2 div.sk-parallel-item:only-child::after {width: 0;}#sk-container-id-2 div.sk-dashed-wrapped {border: 1px dashed gray;margin: 0 0.4em 0.5em 0.4em;box-sizing: border-box;padding-bottom: 0.4em;background-color: white;}#sk-container-id-2 div.sk-label label {font-family: monospace;font-weight: bold;display: inline-block;line-height: 1.2em;}#sk-container-id-2 div.sk-label-container {text-align: center;}#sk-container-id-2 div.sk-container {/* jupyter's `normalize.less` sets `[hidden] { display: none; }` but bootstrap.min.css set `[hidden] { display: none !important; }` so we also need the `!important` here to be able to override the default hidden behavior on the sphinx rendered scikit-learn.org. See: https://github.com/scikit-learn/scikit-learn/issues/21755 */display: inline-block !important;position: relative;}#sk-container-id-2 div.sk-text-repr-fallback {display: none;}</style><div id=\"sk-container-id-2\" class=\"sk-top-container\"><div class=\"sk-text-repr-fallback\"><pre>SVC()</pre><b>In a Jupyter environment, please rerun this cell to show the HTML representation or trust the notebook. <br />On GitHub, the HTML representation is unable to render, please try loading this page with nbviewer.org.</b></div><div class=\"sk-container\" hidden><div class=\"sk-item\"><div class=\"sk-estimator sk-toggleable\"><input class=\"sk-toggleable__control sk-hidden--visually\" id=\"sk-estimator-id-2\" type=\"checkbox\" checked><label for=\"sk-estimator-id-2\" class=\"sk-toggleable__label sk-toggleable__label-arrow\">SVC</label><div class=\"sk-toggleable__content\"><pre>SVC()</pre></div></div></div></div></div>"
      ],
      "text/plain": [
       "SVC()"
      ]
     },
     "execution_count": 25,
     "metadata": {},
     "output_type": "execute_result"
    }
   ],
   "source": [
    "model=SVC()\n",
    "model.fit(xtrain,ytrain)\n"
   ]
  },
  {
   "cell_type": "code",
   "execution_count": 26,
   "id": "b76f9231",
   "metadata": {},
   "outputs": [
    {
     "data": {
      "text/plain": [
       "<matplotlib.collections.PathCollection at 0x28ac240d660>"
      ]
     },
     "execution_count": 26,
     "metadata": {},
     "output_type": "execute_result"
    },
    {
     "data": {
      "image/png": "[encoded data removed]",
      "text/plain": [
       "<Figure size 432x288 with 1 Axes>"
      ]
     },
     "metadata": {
      "needs_background": "light"
     },
     "output_type": "display_data"
    }
   ],
   "source": [
    "train_predict = model.predict(xtrain)\n",
    "test_predict = model.predict(xtest)\n",
    "plt.scatter(ytest, test_predict )\n"
   ]
  },
  {
   "cell_type": "code",
   "execution_count": 27,
   "id": "de98ee12",
   "metadata": {},
   "outputs": [
    {
     "data": {
      "text/plain": [
       "(array([  18.,   22.,  114., 2823.,    0.,   70.,   55.,   46.,    8.,\n",
       "           8.]),\n",
       " array([-3. , -2.2, -1.4, -0.6,  0.2,  1. ,  1.8,  2.6,  3.4,  4.2,  5. ]),\n",
       " <BarContainer object of 10 artists>)"
      ]
     },
     "execution_count": 27,
     "metadata": {},
     "output_type": "execute_result"
    },
    {
     "data": {
      "image/png": "[encoded data removed]",
      "text/plain": [
       "<Figure size 432x288 with 1 Axes>"
      ]
     },
     "metadata": {
      "needs_background": "light"
     },
     "output_type": "display_data"
    }
   ],
   "source": [
    "plt.hist(ytest - test_predict )"
   ]
  },
  {
   "cell_type": "code",
   "execution_count": 28,
   "id": "e4210e8e",
   "metadata": {},
   "outputs": [
    {
     "name": "stdout",
     "output_type": "stream",
     "text": [
      "training accuracy 0.9338932538607424\n",
      "testing accuracy 0.8922250316055625\n"
     ]
    }
   ],
   "source": [
    "print(\"training accuracy\", accuracy_score(train_predict,ytrain))\n",
    "print(\"testing accuracy\", accuracy_score(test_predict,ytest))"
   ]
  },
  {
   "cell_type": "markdown",
   "id": "63683ead",
   "metadata": {},
   "source": [
    "# LinearRegression"
   ]
  },
  {
   "cell_type": "code",
   "execution_count": 29,
   "id": "d0bddf75",
   "metadata": {},
   "outputs": [],
   "source": [
    "import matplotlib.pyplot as plt"
   ]
  },
  {
   "cell_type": "code",
   "execution_count": 30,
   "id": "e8dd399b",
   "metadata": {},
   "outputs": [],
   "source": [
    "from sklearn.linear_model import LinearRegression"
   ]
  },
  {
   "cell_type": "code",
   "execution_count": 31,
   "id": "0a4fc4ff",
   "metadata": {},
   "outputs": [],
   "source": [
    "model = LinearRegression()"
   ]
  },
  {
   "cell_type": "code",
   "execution_count": 32,
   "id": "fa3fc33c",
   "metadata": {},
   "outputs": [
    {
     "data": {
      "text/html": [
       "<style>#sk-container-id-3 {color: black;background-color: white;}#sk-container-id-3 pre{padding: 0;}#sk-container-id-3 div.sk-toggleable {background-color: white;}#sk-container-id-3 label.sk-toggleable__label {cursor: pointer;display: block;width: 100%;margin-bottom: 0;padding: 0.3em;box-sizing: border-box;text-align: center;}#sk-container-id-3 label.sk-toggleable__label-arrow:before {content: \"▸\";float: left;margin-right: 0.25em;color: #696969;}#sk-container-id-3 label.sk-toggleable__label-arrow:hover:before {color: black;}#sk-container-id-3 div.sk-estimator:hover label.sk-toggleable__label-arrow:before {color: black;}#sk-container-id-3 div.sk-toggleable__content {max-height: 0;max-width: 0;overflow: hidden;text-align: left;background-color: #f0f8ff;}#sk-container-id-3 div.sk-toggleable__content pre {margin: 0.2em;color: black;border-radius: 0.25em;background-color: #f0f8ff;}#sk-container-id-3 input.sk-toggleable__control:checked~div.sk-toggleable__content {max-height: 200px;max-width: 100%;overflow: auto;}#sk-container-id-3 input.sk-toggleable__control:checked~label.sk-toggleable__label-arrow:before {content: \"▾\";}#sk-container-id-3 div.sk-estimator input.sk-toggleable__control:checked~label.sk-toggleable__label {background-color: #d4ebff;}#sk-container-id-3 div.sk-label input.sk-toggleable__control:checked~label.sk-toggleable__label {background-color: #d4ebff;}#sk-container-id-3 input.sk-hidden--visually {border: 0;clip: rect(1px 1px 1px 1px);clip: rect(1px, 1px, 1px, 1px);height: 1px;margin: -1px;overflow: hidden;padding: 0;position: absolute;width: 1px;}#sk-container-id-3 div.sk-estimator {font-family: monospace;background-color: #f0f8ff;border: 1px dotted black;border-radius: 0.25em;box-sizing: border-box;margin-bottom: 0.5em;}#sk-container-id-3 div.sk-estimator:hover {background-color: #d4ebff;}#sk-container-id-3 div.sk-parallel-item::after {content: \"\";width: 100%;border-bottom: 1px solid gray;flex-grow: 1;}#sk-container-id-3 div.sk-label:hover label.sk-toggleable__label {background-color: #d4ebff;}#sk-container-id-3 div.sk-serial::before {content: \"\";position: absolute;border-left: 1px solid gray;box-sizing: border-box;top: 0;bottom: 0;left: 50%;z-index: 0;}#sk-container-id-3 div.sk-serial {display: flex;flex-direction: column;align-items: center;background-color: white;padding-right: 0.2em;padding-left: 0.2em;position: relative;}#sk-container-id-3 div.sk-item {position: relative;z-index: 1;}#sk-container-id-3 div.sk-parallel {display: flex;align-items: stretch;justify-content: center;background-color: white;position: relative;}#sk-container-id-3 div.sk-item::before, #sk-container-id-3 div.sk-parallel-item::before {content: \"\";position: absolute;border-left: 1px solid gray;box-sizing: border-box;top: 0;bottom: 0;left: 50%;z-index: -1;}#sk-container-id-3 div.sk-parallel-item {display: flex;flex-direction: column;z-index: 1;position: relative;background-color: white;}#sk-container-id-3 div.sk-parallel-item:first-child::after {align-self: flex-end;width: 50%;}#sk-container-id-3 div.sk-parallel-item:last-child::after {align-self: flex-start;width: 50%;}#sk-container-id-3 div.sk-parallel-item:only-child::after {width: 0;}#sk-container-id-3 div.sk-dashed-wrapped {border: 1px dashed gray;margin: 0 0.4em 0.5em 0.4em;box-sizing: border-box;padding-bottom: 0.4em;background-color: white;}#sk-container-id-3 div.sk-label label {font-family: monospace;font-weight: bold;display: inline-block;line-height: 1.2em;}#sk-container-id-3 div.sk-label-container {text-align: center;}#sk-container-id-3 div.sk-container {/* jupyter's `normalize.less` sets `[hidden] { display: none; }` but bootstrap.min.css set `[hidden] { display: none !important; }` so we also need the `!important` here to be able to override the default hidden behavior on the sphinx rendered scikit-learn.org. See: https://github.com/scikit-learn/scikit-learn/issues/21755 */display: inline-block !important;position: relative;}#sk-container-id-3 div.sk-text-repr-fallback {display: none;}</style><div id=\"sk-container-id-3\" class=\"sk-top-container\"><div class=\"sk-text-repr-fallback\"><pre>LinearRegression()</pre><b>In a Jupyter environment, please rerun this cell to show the HTML representation or trust the notebook. <br />On GitHub, the HTML representation is unable to render, please try loading this page with nbviewer.org.</b></div><div class=\"sk-container\" hidden><div class=\"sk-item\"><div class=\"sk-estimator sk-toggleable\"><input class=\"sk-toggleable__control sk-hidden--visually\" id=\"sk-estimator-id-3\" type=\"checkbox\" checked><label for=\"sk-estimator-id-3\" class=\"sk-toggleable__label sk-toggleable__label-arrow\">LinearRegression</label><div class=\"sk-toggleable__content\"><pre>LinearRegression()</pre></div></div></div></div></div>"
      ],
      "text/plain": [
       "LinearRegression()"
      ]
     },
     "execution_count": 32,
     "metadata": {},
     "output_type": "execute_result"
    }
   ],
   "source": [
    "model.fit(xtrain, ytrain)\n"
   ]
  },
  {
   "cell_type": "code",
   "execution_count": 33,
   "id": "10b5f735",
   "metadata": {},
   "outputs": [
    {
     "name": "stdout",
     "output_type": "stream",
     "text": [
      "[-7.36870617e-05  1.56797118e-06  9.73951089e-06 -1.05101310e-05\n",
      " -1.25330005e-06 -1.00974013e-05 -1.97272236e-05 -1.81327236e-05\n",
      " -3.09673401e-05  2.39481361e-06  9.61706289e-06  8.92632227e-06\n",
      "  5.33369966e-06 -9.34231583e-06 -7.66155474e-06 -3.35478450e-06\n",
      "  1.91468469e-05 -1.69975080e-05  6.45842616e-06 -5.72768358e-06\n",
      " -3.42864290e-05 -1.51318772e-05 -2.09297670e-05 -2.10644812e-06\n",
      " -5.14507090e-06 -8.64525877e-06 -7.30646725e-06 -1.32193126e-05]\n"
     ]
    }
   ],
   "source": [
    "print(model.coef_)"
   ]
  },
  {
   "cell_type": "code",
   "execution_count": 34,
   "id": "1c151189",
   "metadata": {},
   "outputs": [
    {
     "name": "stdout",
     "output_type": "stream",
     "text": [
      "3.490436541818683\n"
     ]
    }
   ],
   "source": [
    "print(model.intercept_)"
   ]
  },
  {
   "cell_type": "code",
   "execution_count": 35,
   "id": "718adc18",
   "metadata": {},
   "outputs": [],
   "source": [
    "predictions = model.predict(xtest)"
   ]
  },
  {
   "cell_type": "code",
   "execution_count": 36,
   "id": "eb4728cc",
   "metadata": {},
   "outputs": [
    {
     "data": {
      "text/plain": [
       "<matplotlib.collections.PathCollection at 0x28ac3d92110>"
      ]
     },
     "execution_count": 36,
     "metadata": {},
     "output_type": "execute_result"
    },
    {
     "data": {
      "image/png": "[encoded data removed]",
      "text/plain": [
       "<Figure size 432x288 with 1 Axes>"
      ]
     },
     "metadata": {
      "needs_background": "light"
     },
     "output_type": "display_data"
    }
   ],
   "source": [
    "plt.scatter(ytest, predictions)"
   ]
  },
  {
   "cell_type": "code",
   "execution_count": 37,
   "id": "a5abecf8",
   "metadata": {},
   "outputs": [
    {
     "data": {
      "text/plain": [
       "(array([ 127.,  281.,  616., 1522.,  323.,  189.,   25.,   18.,   50.,\n",
       "          13.]),\n",
       " array([-2.07404527, -1.46169087, -0.84933647, -0.23698206,  0.37537234,\n",
       "         0.98772674,  1.60008115,  2.21243555,  2.82478995,  3.43714436,\n",
       "         4.04949876]),\n",
       " <BarContainer object of 10 artists>)"
      ]
     },
     "execution_count": 37,
     "metadata": {},
     "output_type": "execute_result"
    },
    {
     "data": {
      "image/png": "[encoded data removed]",
      "text/plain": [
       "<Figure size 432x288 with 1 Axes>"
      ]
     },
     "metadata": {
      "needs_background": "light"
     },
     "output_type": "display_data"
    }
   ],
   "source": [
    "plt.hist(ytest - predictions)\n"
   ]
  },
  {
   "cell_type": "code",
   "execution_count": 38,
   "id": "4a005c41",
   "metadata": {},
   "outputs": [],
   "source": [
    "from sklearn.metrics import mean_squared_error"
   ]
  },
  {
   "cell_type": "code",
   "execution_count": 39,
   "id": "618aec25",
   "metadata": {},
   "outputs": [],
   "source": [
    "ypred = model.predict(xtest)"
   ]
  },
  {
   "cell_type": "code",
   "execution_count": 40,
   "id": "1e0a1291",
   "metadata": {},
   "outputs": [],
   "source": [
    "mse = mean_squared_error(ytest, ypred)"
   ]
  },
  {
   "cell_type": "code",
   "execution_count": 41,
   "id": "a5f7a51f",
   "metadata": {},
   "outputs": [
    {
     "data": {
      "text/plain": [
       "0.7063416341753611"
      ]
     },
     "execution_count": 41,
     "metadata": {},
     "output_type": "execute_result"
    }
   ],
   "source": [
    "mse"
   ]
  },
  {
   "cell_type": "code",
   "execution_count": 42,
   "id": "11ec3eb7",
   "metadata": {},
   "outputs": [],
   "source": [
    "from sklearn.metrics import r2_score"
   ]
  },
  {
   "cell_type": "code",
   "execution_count": 43,
   "id": "ec591100",
   "metadata": {},
   "outputs": [],
   "source": [
    "r2 = r2_score(ytest, ypred)"
   ]
  },
  {
   "cell_type": "code",
   "execution_count": 44,
   "id": "824d6d14",
   "metadata": {},
   "outputs": [
    {
     "data": {
      "text/plain": [
       "0.1922985690057325"
      ]
     },
     "execution_count": 44,
     "metadata": {},
     "output_type": "execute_result"
    }
   ],
   "source": [
    "r2"
   ]
  },
  {
   "cell_type": "markdown",
   "id": "77c0f9b7",
   "metadata": {},
   "source": [
    "# Logistic Regression"
   ]
  },
  {
   "cell_type": "code",
   "execution_count": 45,
   "id": "820aa232",
   "metadata": {},
   "outputs": [],
   "source": [
    "from sklearn.linear_model import LogisticRegression\n",
    "import matplotlib.pyplot as plt"
   ]
  },
  {
   "cell_type": "code",
   "execution_count": 46,
   "id": "a42f79cb",
   "metadata": {},
   "outputs": [],
   "source": [
    "model = LogisticRegression()"
   ]
  },
  {
   "cell_type": "code",
   "execution_count": 47,
   "id": "92bdf960",
   "metadata": {},
   "outputs": [
    {
     "name": "stderr",
     "output_type": "stream",
     "text": [
      "C:\\Python\\lib\\site-packages\\sklearn\\linear_model\\_logistic.py:444: ConvergenceWarning: lbfgs failed to converge (status=1):\n",
      "STOP: TOTAL NO. of ITERATIONS REACHED LIMIT.\n",
      "\n",
      "Increase the number of iterations (max_iter) or scale the data as shown in:\n",
      "    https://scikit-learn.org/stable/modules/preprocessing.html\n",
      "Please also refer to the documentation for alternative solver options:\n",
      "    https://scikit-learn.org/stable/modules/linear_model.html#logistic-regression\n",
      "  n_iter_i = _check_optimize_result(\n"
     ]
    },
    {
     "data": {
      "text/html": [
       "<style>#sk-container-id-4 {color: black;background-color: white;}#sk-container-id-4 pre{padding: 0;}#sk-container-id-4 div.sk-toggleable {background-color: white;}#sk-container-id-4 label.sk-toggleable__label {cursor: pointer;display: block;width: 100%;margin-bottom: 0;padding: 0.3em;box-sizing: border-box;text-align: center;}#sk-container-id-4 label.sk-toggleable__label-arrow:before {content: \"▸\";float: left;margin-right: 0.25em;color: #696969;}#sk-container-id-4 label.sk-toggleable__label-arrow:hover:before {color: black;}#sk-container-id-4 div.sk-estimator:hover label.sk-toggleable__label-arrow:before {color: black;}#sk-container-id-4 div.sk-toggleable__content {max-height: 0;max-width: 0;overflow: hidden;text-align: left;background-color: #f0f8ff;}#sk-container-id-4 div.sk-toggleable__content pre {margin: 0.2em;color: black;border-radius: 0.25em;background-color: #f0f8ff;}#sk-container-id-4 input.sk-toggleable__control:checked~div.sk-toggleable__content {max-height: 200px;max-width: 100%;overflow: auto;}#sk-container-id-4 input.sk-toggleable__control:checked~label.sk-toggleable__label-arrow:before {content: \"▾\";}#sk-container-id-4 div.sk-estimator input.sk-toggleable__control:checked~label.sk-toggleable__label {background-color: #d4ebff;}#sk-container-id-4 div.sk-label input.sk-toggleable__control:checked~label.sk-toggleable__label {background-color: #d4ebff;}#sk-container-id-4 input.sk-hidden--visually {border: 0;clip: rect(1px 1px 1px 1px);clip: rect(1px, 1px, 1px, 1px);height: 1px;margin: -1px;overflow: hidden;padding: 0;position: absolute;width: 1px;}#sk-container-id-4 div.sk-estimator {font-family: monospace;background-color: #f0f8ff;border: 1px dotted black;border-radius: 0.25em;box-sizing: border-box;margin-bottom: 0.5em;}#sk-container-id-4 div.sk-estimator:hover {background-color: #d4ebff;}#sk-container-id-4 div.sk-parallel-item::after {content: \"\";width: 100%;border-bottom: 1px solid gray;flex-grow: 1;}#sk-container-id-4 div.sk-label:hover label.sk-toggleable__label {background-color: #d4ebff;}#sk-container-id-4 div.sk-serial::before {content: \"\";position: absolute;border-left: 1px solid gray;box-sizing: border-box;top: 0;bottom: 0;left: 50%;z-index: 0;}#sk-container-id-4 div.sk-serial {display: flex;flex-direction: column;align-items: center;background-color: white;padding-right: 0.2em;padding-left: 0.2em;position: relative;}#sk-container-id-4 div.sk-item {position: relative;z-index: 1;}#sk-container-id-4 div.sk-parallel {display: flex;align-items: stretch;justify-content: center;background-color: white;position: relative;}#sk-container-id-4 div.sk-item::before, #sk-container-id-4 div.sk-parallel-item::before {content: \"\";position: absolute;border-left: 1px solid gray;box-sizing: border-box;top: 0;bottom: 0;left: 50%;z-index: -1;}#sk-container-id-4 div.sk-parallel-item {display: flex;flex-direction: column;z-index: 1;position: relative;background-color: white;}#sk-container-id-4 div.sk-parallel-item:first-child::after {align-self: flex-end;width: 50%;}#sk-container-id-4 div.sk-parallel-item:last-child::after {align-self: flex-start;width: 50%;}#sk-container-id-4 div.sk-parallel-item:only-child::after {width: 0;}#sk-container-id-4 div.sk-dashed-wrapped {border: 1px dashed gray;margin: 0 0.4em 0.5em 0.4em;box-sizing: border-box;padding-bottom: 0.4em;background-color: white;}#sk-container-id-4 div.sk-label label {font-family: monospace;font-weight: bold;display: inline-block;line-height: 1.2em;}#sk-container-id-4 div.sk-label-container {text-align: center;}#sk-container-id-4 div.sk-container {/* jupyter's `normalize.less` sets `[hidden] { display: none; }` but bootstrap.min.css set `[hidden] { display: none !important; }` so we also need the `!important` here to be able to override the default hidden behavior on the sphinx rendered scikit-learn.org. See: https://github.com/scikit-learn/scikit-learn/issues/21755 */display: inline-block !important;position: relative;}#sk-container-id-4 div.sk-text-repr-fallback {display: none;}</style><div id=\"sk-container-id-4\" class=\"sk-top-container\"><div class=\"sk-text-repr-fallback\"><pre>LogisticRegression()</pre><b>In a Jupyter environment, please rerun this cell to show the HTML representation or trust the notebook. <br />On GitHub, the HTML representation is unable to render, please try loading this page with nbviewer.org.</b></div><div class=\"sk-container\" hidden><div class=\"sk-item\"><div class=\"sk-estimator sk-toggleable\"><input class=\"sk-toggleable__control sk-hidden--visually\" id=\"sk-estimator-id-4\" type=\"checkbox\" checked><label for=\"sk-estimator-id-4\" class=\"sk-toggleable__label sk-toggleable__label-arrow\">LogisticRegression</label><div class=\"sk-toggleable__content\"><pre>LogisticRegression()</pre></div></div></div></div></div>"
      ],
      "text/plain": [
       "LogisticRegression()"
      ]
     },
     "execution_count": 47,
     "metadata": {},
     "output_type": "execute_result"
    }
   ],
   "source": [
    "model.fit(xtrain, ytrain)"
   ]
  },
  {
   "cell_type": "code",
   "execution_count": 48,
   "id": "9e6ef284",
   "metadata": {},
   "outputs": [],
   "source": [
    "score = model.score(xtest, ytest)"
   ]
  },
  {
   "cell_type": "code",
   "execution_count": 49,
   "id": "ebebfb89",
   "metadata": {},
   "outputs": [
    {
     "data": {
      "text/plain": [
       "0.8245891276864729"
      ]
     },
     "execution_count": 49,
     "metadata": {},
     "output_type": "execute_result"
    }
   ],
   "source": [
    "score"
   ]
  },
  {
   "cell_type": "code",
   "execution_count": 50,
   "id": "2079da56",
   "metadata": {},
   "outputs": [
    {
     "data": {
      "text/plain": [
       "<matplotlib.collections.PathCollection at 0x28ac3e9f640>"
      ]
     },
     "execution_count": 50,
     "metadata": {},
     "output_type": "execute_result"
    },
    {
     "data": {
      "image/png": "[encoded data removed]",
      "text/plain": [
       "<Figure size 432x288 with 1 Axes>"
      ]
     },
     "metadata": {
      "needs_background": "light"
     },
     "output_type": "display_data"
    }
   ],
   "source": [
    "predictions = model.predict(xtest)\n",
    "plt.scatter(ytest, predictions)"
   ]
  },
  {
   "cell_type": "code",
   "execution_count": 51,
   "id": "820fee59",
   "metadata": {},
   "outputs": [
    {
     "data": {
      "text/plain": [
       "(array([   3.,    0.,   30.,   31.,  224., 2609.,  141.,   66.,   35.,\n",
       "          25.]),\n",
       " array([-5., -4., -3., -2., -1.,  0.,  1.,  2.,  3.,  4.,  5.]),\n",
       " <BarContainer object of 10 artists>)"
      ]
     },
     "execution_count": 51,
     "metadata": {},
     "output_type": "execute_result"
    },
    {
     "data": {
      "image/png": "[encoded data removed]",
      "text/plain": [
       "<Figure size 432x288 with 1 Axes>"
      ]
     },
     "metadata": {
      "needs_background": "light"
     },
     "output_type": "display_data"
    }
   ],
   "source": [
    "plt.hist(ytest - predictions)"
   ]
  },
  {
   "cell_type": "markdown",
   "id": "b3828d6e",
   "metadata": {},
   "source": [
    "# RandomForest"
   ]
  },
  {
   "cell_type": "code",
   "execution_count": 52,
   "id": "628c47bb",
   "metadata": {},
   "outputs": [],
   "source": [
    "from sklearn.ensemble import RandomForestRegressor\n",
    "from sklearn.metrics import r2_score\n",
    "from sklearn.metrics import r2_score"
   ]
  },
  {
   "cell_type": "code",
   "execution_count": 53,
   "id": "2abe3624",
   "metadata": {},
   "outputs": [],
   "source": [
    "model = RandomForestRegressor(n_estimators=100)"
   ]
  },
  {
   "cell_type": "code",
   "execution_count": 54,
   "id": "3249dc30",
   "metadata": {},
   "outputs": [
    {
     "data": {
      "text/html": [
       "<style>#sk-container-id-5 {color: black;background-color: white;}#sk-container-id-5 pre{padding: 0;}#sk-container-id-5 div.sk-toggleable {background-color: white;}#sk-container-id-5 label.sk-toggleable__label {cursor: pointer;display: block;width: 100%;margin-bottom: 0;padding: 0.3em;box-sizing: border-box;text-align: center;}#sk-container-id-5 label.sk-toggleable__label-arrow:before {content: \"▸\";float: left;margin-right: 0.25em;color: #696969;}#sk-container-id-5 label.sk-toggleable__label-arrow:hover:before {color: black;}#sk-container-id-5 div.sk-estimator:hover label.sk-toggleable__label-arrow:before {color: black;}#sk-container-id-5 div.sk-toggleable__content {max-height: 0;max-width: 0;overflow: hidden;text-align: left;background-color: #f0f8ff;}#sk-container-id-5 div.sk-toggleable__content pre {margin: 0.2em;color: black;border-radius: 0.25em;background-color: #f0f8ff;}#sk-container-id-5 input.sk-toggleable__control:checked~div.sk-toggleable__content {max-height: 200px;max-width: 100%;overflow: auto;}#sk-container-id-5 input.sk-toggleable__control:checked~label.sk-toggleable__label-arrow:before {content: \"▾\";}#sk-container-id-5 div.sk-estimator input.sk-toggleable__control:checked~label.sk-toggleable__label {background-color: #d4ebff;}#sk-container-id-5 div.sk-label input.sk-toggleable__control:checked~label.sk-toggleable__label {background-color: #d4ebff;}#sk-container-id-5 input.sk-hidden--visually {border: 0;clip: rect(1px 1px 1px 1px);clip: rect(1px, 1px, 1px, 1px);height: 1px;margin: -1px;overflow: hidden;padding: 0;position: absolute;width: 1px;}#sk-container-id-5 div.sk-estimator {font-family: monospace;background-color: #f0f8ff;border: 1px dotted black;border-radius: 0.25em;box-sizing: border-box;margin-bottom: 0.5em;}#sk-container-id-5 div.sk-estimator:hover {background-color: #d4ebff;}#sk-container-id-5 div.sk-parallel-item::after {content: \"\";width: 100%;border-bottom: 1px solid gray;flex-grow: 1;}#sk-container-id-5 div.sk-label:hover label.sk-toggleable__label {background-color: #d4ebff;}#sk-container-id-5 div.sk-serial::before {content: \"\";position: absolute;border-left: 1px solid gray;box-sizing: border-box;top: 0;bottom: 0;left: 50%;z-index: 0;}#sk-container-id-5 div.sk-serial {display: flex;flex-direction: column;align-items: center;background-color: white;padding-right: 0.2em;padding-left: 0.2em;position: relative;}#sk-container-id-5 div.sk-item {position: relative;z-index: 1;}#sk-container-id-5 div.sk-parallel {display: flex;align-items: stretch;justify-content: center;background-color: white;position: relative;}#sk-container-id-5 div.sk-item::before, #sk-container-id-5 div.sk-parallel-item::before {content: \"\";position: absolute;border-left: 1px solid gray;box-sizing: border-box;top: 0;bottom: 0;left: 50%;z-index: -1;}#sk-container-id-5 div.sk-parallel-item {display: flex;flex-direction: column;z-index: 1;position: relative;background-color: white;}#sk-container-id-5 div.sk-parallel-item:first-child::after {align-self: flex-end;width: 50%;}#sk-container-id-5 div.sk-parallel-item:last-child::after {align-self: flex-start;width: 50%;}#sk-container-id-5 div.sk-parallel-item:only-child::after {width: 0;}#sk-container-id-5 div.sk-dashed-wrapped {border: 1px dashed gray;margin: 0 0.4em 0.5em 0.4em;box-sizing: border-box;padding-bottom: 0.4em;background-color: white;}#sk-container-id-5 div.sk-label label {font-family: monospace;font-weight: bold;display: inline-block;line-height: 1.2em;}#sk-container-id-5 div.sk-label-container {text-align: center;}#sk-container-id-5 div.sk-container {/* jupyter's `normalize.less` sets `[hidden] { display: none; }` but bootstrap.min.css set `[hidden] { display: none !important; }` so we also need the `!important` here to be able to override the default hidden behavior on the sphinx rendered scikit-learn.org. See: https://github.com/scikit-learn/scikit-learn/issues/21755 */display: inline-block !important;position: relative;}#sk-container-id-5 div.sk-text-repr-fallback {display: none;}</style><div id=\"sk-container-id-5\" class=\"sk-top-container\"><div class=\"sk-text-repr-fallback\"><pre>RandomForestRegressor()</pre><b>In a Jupyter environment, please rerun this cell to show the HTML representation or trust the notebook. <br />On GitHub, the HTML representation is unable to render, please try loading this page with nbviewer.org.</b></div><div class=\"sk-container\" hidden><div class=\"sk-item\"><div class=\"sk-estimator sk-toggleable\"><input class=\"sk-toggleable__control sk-hidden--visually\" id=\"sk-estimator-id-5\" type=\"checkbox\" checked><label for=\"sk-estimator-id-5\" class=\"sk-toggleable__label sk-toggleable__label-arrow\">RandomForestRegressor</label><div class=\"sk-toggleable__content\"><pre>RandomForestRegressor()</pre></div></div></div></div></div>"
      ],
      "text/plain": [
       "RandomForestRegressor()"
      ]
     },
     "execution_count": 54,
     "metadata": {},
     "output_type": "execute_result"
    }
   ],
   "source": [
    "model.fit(xtrain, ytrain)"
   ]
  },
  {
   "cell_type": "code",
   "execution_count": 55,
   "id": "2bb7d590",
   "metadata": {},
   "outputs": [
    {
     "data": {
      "text/plain": [
       "<matplotlib.collections.PathCollection at 0x28ac4017d30>"
      ]
     },
     "execution_count": 55,
     "metadata": {},
     "output_type": "execute_result"
    },
    {
     "data": {
      "image/png": "[encoded data removed]",
      "text/plain": [
       "<Figure size 432x288 with 1 Axes>"
      ]
     },
     "metadata": {
      "needs_background": "light"
     },
     "output_type": "display_data"
    }
   ],
   "source": [
    "ypred = model.predict(xtest)\n",
    "plt.scatter(ytest,ypred)"
   ]
  },
  {
   "cell_type": "code",
   "execution_count": 56,
   "id": "7a4edeb0",
   "metadata": {},
   "outputs": [
    {
     "data": {
      "text/plain": [
       "(array([  11.,   14.,   85.,  354., 2514.,   87.,   44.,   30.,   13.,\n",
       "          12.]),\n",
       " array([-3.13 , -2.398, -1.666, -0.934, -0.202,  0.53 ,  1.262,  1.994,\n",
       "         2.726,  3.458,  4.19 ]),\n",
       " <BarContainer object of 10 artists>)"
      ]
     },
     "execution_count": 56,
     "metadata": {},
     "output_type": "execute_result"
    },
    {
     "data": {
      "image/png": "[encoded data removed]",
      "text/plain": [
       "<Figure size 432x288 with 1 Axes>"
      ]
     },
     "metadata": {
      "needs_background": "light"
     },
     "output_type": "display_data"
    }
   ],
   "source": [
    "\n",
    "plt.hist(ytest - ypred)"
   ]
  },
  {
   "cell_type": "code",
   "execution_count": 57,
   "id": "9fd6efec",
   "metadata": {},
   "outputs": [
    {
     "name": "stdout",
     "output_type": "stream",
     "text": [
      "R-squared score: 0.6290851707876945\n"
     ]
    }
   ],
   "source": [
    "r2_score = r2_score(ytest, ypred)\n",
    "print('R-squared score:', r2_score)\n"
   ]
  },
  {
   "cell_type": "markdown",
   "id": "79659869",
   "metadata": {},
   "source": [
    "# Hyperparameter Tuning"
   ]
  },
  {
   "cell_type": "code",
   "execution_count": 58,
   "id": "6d155730",
   "metadata": {},
   "outputs": [],
   "source": [
    "from sklearn.model_selection import GridSearchCV\n",
    "from sklearn.svm import SVC\n",
    "import matplotlib.pyplot as plt"
   ]
  },
  {
   "cell_type": "code",
   "execution_count": 59,
   "id": "02f9003f",
   "metadata": {},
   "outputs": [],
   "source": [
    "param_grid = {'C': [0.1, 1, 10], 'gamma': [0.1, 1, 10]}"
   ]
  },
  {
   "cell_type": "code",
   "execution_count": 60,
   "id": "552e648f",
   "metadata": {},
   "outputs": [],
   "source": [
    "svc = SVC()\n",
    "grid_search = GridSearchCV(svc, param_grid=param_grid)"
   ]
  },
  {
   "cell_type": "code",
   "execution_count": 61,
   "id": "36c6e761",
   "metadata": {},
   "outputs": [
    {
     "name": "stderr",
     "output_type": "stream",
     "text": [
      "C:\\Python\\lib\\site-packages\\sklearn\\model_selection\\_split.py:684: UserWarning: The least populated class in y has only 1 members, which is less than n_splits=5.\n",
      "  warnings.warn(\n"
     ]
    },
    {
     "data": {
      "text/html": [
       "<style>#sk-container-id-6 {color: black;background-color: white;}#sk-container-id-6 pre{padding: 0;}#sk-container-id-6 div.sk-toggleable {background-color: white;}#sk-container-id-6 label.sk-toggleable__label {cursor: pointer;display: block;width: 100%;margin-bottom: 0;padding: 0.3em;box-sizing: border-box;text-align: center;}#sk-container-id-6 label.sk-toggleable__label-arrow:before {content: \"▸\";float: left;margin-right: 0.25em;color: #696969;}#sk-container-id-6 label.sk-toggleable__label-arrow:hover:before {color: black;}#sk-container-id-6 div.sk-estimator:hover label.sk-toggleable__label-arrow:before {color: black;}#sk-container-id-6 div.sk-toggleable__content {max-height: 0;max-width: 0;overflow: hidden;text-align: left;background-color: #f0f8ff;}#sk-container-id-6 div.sk-toggleable__content pre {margin: 0.2em;color: black;border-radius: 0.25em;background-color: #f0f8ff;}#sk-container-id-6 input.sk-toggleable__control:checked~div.sk-toggleable__content {max-height: 200px;max-width: 100%;overflow: auto;}#sk-container-id-6 input.sk-toggleable__control:checked~label.sk-toggleable__label-arrow:before {content: \"▾\";}#sk-container-id-6 div.sk-estimator input.sk-toggleable__control:checked~label.sk-toggleable__label {background-color: #d4ebff;}#sk-container-id-6 div.sk-label input.sk-toggleable__control:checked~label.sk-toggleable__label {background-color: #d4ebff;}#sk-container-id-6 input.sk-hidden--visually {border: 0;clip: rect(1px 1px 1px 1px);clip: rect(1px, 1px, 1px, 1px);height: 1px;margin: -1px;overflow: hidden;padding: 0;position: absolute;width: 1px;}#sk-container-id-6 div.sk-estimator {font-family: monospace;background-color: #f0f8ff;border: 1px dotted black;border-radius: 0.25em;box-sizing: border-box;margin-bottom: 0.5em;}#sk-container-id-6 div.sk-estimator:hover {background-color: #d4ebff;}#sk-container-id-6 div.sk-parallel-item::after {content: \"\";width: 100%;border-bottom: 1px solid gray;flex-grow: 1;}#sk-container-id-6 div.sk-label:hover label.sk-toggleable__label {background-color: #d4ebff;}#sk-container-id-6 div.sk-serial::before {content: \"\";position: absolute;border-left: 1px solid gray;box-sizing: border-box;top: 0;bottom: 0;left: 50%;z-index: 0;}#sk-container-id-6 div.sk-serial {display: flex;flex-direction: column;align-items: center;background-color: white;padding-right: 0.2em;padding-left: 0.2em;position: relative;}#sk-container-id-6 div.sk-item {position: relative;z-index: 1;}#sk-container-id-6 div.sk-parallel {display: flex;align-items: stretch;justify-content: center;background-color: white;position: relative;}#sk-container-id-6 div.sk-item::before, #sk-container-id-6 div.sk-parallel-item::before {content: \"\";position: absolute;border-left: 1px solid gray;box-sizing: border-box;top: 0;bottom: 0;left: 50%;z-index: -1;}#sk-container-id-6 div.sk-parallel-item {display: flex;flex-direction: column;z-index: 1;position: relative;background-color: white;}#sk-container-id-6 div.sk-parallel-item:first-child::after {align-self: flex-end;width: 50%;}#sk-container-id-6 div.sk-parallel-item:last-child::after {align-self: flex-start;width: 50%;}#sk-container-id-6 div.sk-parallel-item:only-child::after {width: 0;}#sk-container-id-6 div.sk-dashed-wrapped {border: 1px dashed gray;margin: 0 0.4em 0.5em 0.4em;box-sizing: border-box;padding-bottom: 0.4em;background-color: white;}#sk-container-id-6 div.sk-label label {font-family: monospace;font-weight: bold;display: inline-block;line-height: 1.2em;}#sk-container-id-6 div.sk-label-container {text-align: center;}#sk-container-id-6 div.sk-container {/* jupyter's `normalize.less` sets `[hidden] { display: none; }` but bootstrap.min.css set `[hidden] { display: none !important; }` so we also need the `!important` here to be able to override the default hidden behavior on the sphinx rendered scikit-learn.org. See: https://github.com/scikit-learn/scikit-learn/issues/21755 */display: inline-block !important;position: relative;}#sk-container-id-6 div.sk-text-repr-fallback {display: none;}</style><div id=\"sk-container-id-6\" class=\"sk-top-container\"><div class=\"sk-text-repr-fallback\"><pre>GridSearchCV(estimator=SVC(),\n",
       "             param_grid={&#x27;C&#x27;: [0.1, 1, 10], &#x27;gamma&#x27;: [0.1, 1, 10]})</pre><b>In a Jupyter environment, please rerun this cell to show the HTML representation or trust the notebook. <br />On GitHub, the HTML representation is unable to render, please try loading this page with nbviewer.org.</b></div><div class=\"sk-container\" hidden><div class=\"sk-item sk-dashed-wrapped\"><div class=\"sk-label-container\"><div class=\"sk-label sk-toggleable\"><input class=\"sk-toggleable__control sk-hidden--visually\" id=\"sk-estimator-id-6\" type=\"checkbox\" ><label for=\"sk-estimator-id-6\" class=\"sk-toggleable__label sk-toggleable__label-arrow\">GridSearchCV</label><div class=\"sk-toggleable__content\"><pre>GridSearchCV(estimator=SVC(),\n",
       "             param_grid={&#x27;C&#x27;: [0.1, 1, 10], &#x27;gamma&#x27;: [0.1, 1, 10]})</pre></div></div></div><div class=\"sk-parallel\"><div class=\"sk-parallel-item\"><div class=\"sk-item\"><div class=\"sk-label-container\"><div class=\"sk-label sk-toggleable\"><input class=\"sk-toggleable__control sk-hidden--visually\" id=\"sk-estimator-id-7\" type=\"checkbox\" ><label for=\"sk-estimator-id-7\" class=\"sk-toggleable__label sk-toggleable__label-arrow\">estimator: SVC</label><div class=\"sk-toggleable__content\"><pre>SVC()</pre></div></div></div><div class=\"sk-serial\"><div class=\"sk-item\"><div class=\"sk-estimator sk-toggleable\"><input class=\"sk-toggleable__control sk-hidden--visually\" id=\"sk-estimator-id-8\" type=\"checkbox\" ><label for=\"sk-estimator-id-8\" class=\"sk-toggleable__label sk-toggleable__label-arrow\">SVC</label><div class=\"sk-toggleable__content\"><pre>SVC()</pre></div></div></div></div></div></div></div></div></div></div>"
      ],
      "text/plain": [
       "GridSearchCV(estimator=SVC(),\n",
       "             param_grid={'C': [0.1, 1, 10], 'gamma': [0.1, 1, 10]})"
      ]
     },
     "execution_count": 61,
     "metadata": {},
     "output_type": "execute_result"
    }
   ],
   "source": [
    "grid_search.fit(xtrain, ytrain)"
   ]
  },
  {
   "cell_type": "code",
   "execution_count": 62,
   "id": "43b6f3ed",
   "metadata": {},
   "outputs": [
    {
     "name": "stdout",
     "output_type": "stream",
     "text": [
      "{'C': 0.1, 'gamma': 0.1}\n"
     ]
    }
   ],
   "source": [
    "print(grid_search.best_params_)"
   ]
  },
  {
   "cell_type": "code",
   "execution_count": 63,
   "id": "46e7ae4c",
   "metadata": {},
   "outputs": [],
   "source": [
    "predictions= model.predict(xtest)"
   ]
  },
  {
   "cell_type": "code",
   "execution_count": 64,
   "id": "19f00bf4",
   "metadata": {},
   "outputs": [
    {
     "data": {
      "text/plain": [
       "<matplotlib.collections.PathCollection at 0x28ac611fd00>"
      ]
     },
     "execution_count": 64,
     "metadata": {},
     "output_type": "execute_result"
    },
    {
     "data": {
      "image/png": "[encoded data removed]",
      "text/plain": [
       "<Figure size 432x288 with 1 Axes>"
      ]
     },
     "metadata": {
      "needs_background": "light"
     },
     "output_type": "display_data"
    }
   ],
   "source": [
    "plt.scatter(ytest, predictions)"
   ]
  },
  {
   "cell_type": "code",
   "execution_count": 65,
   "id": "107cb2f4",
   "metadata": {},
   "outputs": [
    {
     "data": {
      "text/plain": [
       "(array([  11.,   14.,   85.,  354., 2514.,   87.,   44.,   30.,   13.,\n",
       "          12.]),\n",
       " array([-3.13 , -2.398, -1.666, -0.934, -0.202,  0.53 ,  1.262,  1.994,\n",
       "         2.726,  3.458,  4.19 ]),\n",
       " <BarContainer object of 10 artists>)"
      ]
     },
     "execution_count": 65,
     "metadata": {},
     "output_type": "execute_result"
    },
    {
     "data": {
      "image/png": "[encoded data removed]",
      "text/plain": [
       "<Figure size 432x288 with 1 Axes>"
      ]
     },
     "metadata": {
      "needs_background": "light"
     },
     "output_type": "display_data"
    }
   ],
   "source": [
    "plt.hist(ytest-predictions)"
   ]
  },
  {
   "cell_type": "markdown",
   "id": "313d17f3",
   "metadata": {},
   "source": [
    "# KNN"
   ]
  },
  {
   "cell_type": "code",
   "execution_count": 66,
   "id": "6a01c70a",
   "metadata": {},
   "outputs": [],
   "source": [
    "from sklearn.neighbors import KNeighborsClassifier\n",
    "import matplotlib.pyplot as plt"
   ]
  },
  {
   "cell_type": "code",
   "execution_count": 67,
   "id": "1f78f778",
   "metadata": {},
   "outputs": [],
   "source": [
    "model = KNeighborsClassifier(n_neighbors=3)"
   ]
  },
  {
   "cell_type": "code",
   "execution_count": 68,
   "id": "cc4c45df",
   "metadata": {},
   "outputs": [
    {
     "name": "stdout",
     "output_type": "stream",
     "text": [
      "k is 0\n",
      "training accuracy is 0.8482795990246546\n",
      "testing accuracy is <function accuracy_score at 0x0000028AB6F349D0>\n",
      "k is 1\n",
      "training accuracy is 0.8482795990246546\n",
      "testing accuracy is <function accuracy_score at 0x0000028AB6F349D0>\n",
      "k is 2\n",
      "training accuracy is 0.8482795990246546\n",
      "testing accuracy is <function accuracy_score at 0x0000028AB6F349D0>\n",
      "k is 3\n",
      "training accuracy is 0.8482795990246546\n",
      "testing accuracy is <function accuracy_score at 0x0000028AB6F349D0>\n"
     ]
    }
   ],
   "source": [
    "for i in range (0,4):\n",
    "    model = KNeighborsClassifier(n_neighbors=1)\n",
    "    model.fit(xtrain,ytrain)\n",
    "    train_predict = model.predict(xtrain)\n",
    "    test_predict = model.predict(xtest)\n",
    "    print(\"k is\", i)\n",
    "    print(\"training accuracy is\", accuracy_score(train_pred, ytrain))\n",
    "    print(\"testing accuracy is\", accuracy_score)"
   ]
  },
  {
   "cell_type": "code",
   "execution_count": 69,
   "id": "d2d6557c",
   "metadata": {},
   "outputs": [
    {
     "data": {
      "text/plain": [
       "<matplotlib.collections.PathCollection at 0x28ac61f7970>"
      ]
     },
     "execution_count": 69,
     "metadata": {},
     "output_type": "execute_result"
    },
    {
     "data": {
      "image/png": "[encoded data removed]",
      "text/plain": [
       "<Figure size 432x288 with 1 Axes>"
      ]
     },
     "metadata": {
      "needs_background": "light"
     },
     "output_type": "display_data"
    }
   ],
   "source": [
    "predictions = model.predict(xtest)\n",
    "plt.scatter(ytest, predictions)"
   ]
  },
  {
   "cell_type": "code",
   "execution_count": 70,
   "id": "d4e04511",
   "metadata": {},
   "outputs": [
    {
     "data": {
      "text/plain": [
       "(array([   7.,    4.,   25.,   38.,   84., 2799.,   75.,   66.,   50.,\n",
       "          16.]),\n",
       " array([-5., -4., -3., -2., -1.,  0.,  1.,  2.,  3.,  4.,  5.]),\n",
       " <BarContainer object of 10 artists>)"
      ]
     },
     "execution_count": 70,
     "metadata": {},
     "output_type": "execute_result"
    },
    {
     "data": {
      "image/png": "[encoded data removed]",
      "text/plain": [
       "<Figure size 432x288 with 1 Axes>"
      ]
     },
     "metadata": {
      "needs_background": "light"
     },
     "output_type": "display_data"
    }
   ],
   "source": [
    "plt.hist(ytest-predictions)"
   ]
  },
  {
   "cell_type": "code",
   "execution_count": null,
   "id": "fefff148",
   "metadata": {},
   "outputs": [],
   "source": []
  }
 ],
 "metadata": {
  "kernelspec": {
   "display_name": "Python 3 (ipykernel)",
   "language": "python",
   "name": "python3"
  },
  "language_info": {
   "codemirror_mode": {
    "name": "ipython",
    "version": 3
   },
   "file_extension": ".py",
   "mimetype": "text/x-python",
   "name": "python",
   "nbconvert_exporter": "python",
   "pygments_lexer": "ipython3",
   "version": "3.10.4"
  }
 },
 "nbformat": 4,
 "nbformat_minor": 5
}
